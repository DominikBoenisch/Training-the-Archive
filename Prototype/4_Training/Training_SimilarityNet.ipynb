{
 "cells": [
  {
   "cell_type": "code",
   "execution_count": null,
   "metadata": {
    "colab": {},
    "colab_type": "code",
    "id": "7hE6YBXDd-PM"
   },
   "outputs": [],
   "source": [
    "import torch\n",
    "from torch import nn\n",
    "import numpy as np\n",
    "import scipy.spatial.distance \n",
    "\n",
    "from tqdm import tqdm\n",
    "from sklearn.preprocessing import StandardScaler"
   ]
  },
  {
   "cell_type": "code",
   "execution_count": null,
   "metadata": {},
   "outputs": [],
   "source": [
    "#If you're working with Colab mount your drive or skip this step\n",
    "from google.colab import drive\n",
    "drive.mount('/content/drive')"
   ]
  },
  {
   "cell_type": "code",
   "execution_count": null,
   "metadata": {
    "colab": {
     "base_uri": "https://localhost:8080/",
     "height": 34
    },
    "colab_type": "code",
    "executionInfo": {
     "elapsed": 4726,
     "status": "ok",
     "timestamp": 1589445535891,
     "user": {
      "displayName": "Dominik Bönisch",
      "photoUrl": "https://lh3.googleusercontent.com/a-/AOh14GhKOWR8THR9qdTMvlOUgs_jDS8c90Gn7wTwJaxV=s64",
      "userId": "01670297113181042790"
     },
     "user_tz": -120
    },
    "id": "Z9QgJVJfmfQh",
    "outputId": "de22a06c-2595-45d7-c4bc-34658a2dfe37"
   },
   "outputs": [],
   "source": [
    "torch.cuda.get_device_name() #check if you have chosen a gpu (otherwise use 'cpu' instead of 'cuda')"
   ]
  },
  {
   "cell_type": "code",
   "execution_count": null,
   "metadata": {
    "colab": {},
    "colab_type": "code",
    "id": "Bf-D_V9ufLaa"
   },
   "outputs": [],
   "source": [
    "class TripletCosineLoss(torch.nn.Module):\n",
    "\n",
    "    def __init__(self, margin=0.2, triplet=True):\n",
    "\n",
    "        super(TripletCosineLoss, self).__init__()\n",
    "        self.margin = margin\n",
    "        self.triplet = triplet\n",
    "        self.similarity = torch.nn.functional.cosine_similarity\n",
    "\n",
    "    def forward(self, anchor, positive, negative):\n",
    "\n",
    "        dp = self.similarity(anchor, positive)\n",
    "        dn = self.similarity(anchor, negative)\n",
    "\n",
    "        if self.triplet:\n",
    "            loss = torch.mean(torch.clamp(dn - dp + self.margin, min=0.0))\n",
    "        else:\n",
    "            raise NotImplementedError\n",
    "\n",
    "        return loss"
   ]
  },
  {
   "cell_type": "code",
   "execution_count": null,
   "metadata": {
    "colab": {},
    "colab_type": "code",
    "id": "atLzmMvxd_aq"
   },
   "outputs": [],
   "source": [
    "class Imagedescription(torch.nn.Module):\n",
    "    \n",
    "    def __init__(self, input_size, hidden_size, output_size):\n",
    "        super(Imagedescription, self).__init__()       # Inherited from the parent class nn.Module\n",
    "        self.fc1 = nn.Linear(input_size, hidden_size)  # 1st Full-Connected Layer: (input data) -> (hidden node)\n",
    "        self.relu = nn.ReLU()                          \n",
    "        self.fc2 = nn.Linear(hidden_size, output_size) # 2nd Full-Connected Layer: (hidden node) -> (output code)\n",
    "        self.tanh = nn.Tanh()\n",
    "\n",
    "    def forward(self, x):                              # Forward pass: stacking each layer together\n",
    "        out = self.fc1(x)\n",
    "        out = self.relu(out)\n",
    "        out = self.fc2(out)\n",
    "        return 0.5*x + self.tanh(out)"
   ]
  },
  {
   "cell_type": "code",
   "execution_count": null,
   "metadata": {
    "colab": {},
    "colab_type": "code",
    "id": "Xy7C47rheb1N"
   },
   "outputs": [],
   "source": [
    "annotations = open('/path/to/file/trainingdata.txt').readlines()\n",
    "annotations = [l.strip().split(',') for l in annotations]"
   ]
  },
  {
   "cell_type": "code",
   "execution_count": null,
   "metadata": {
    "colab": {},
    "colab_type": "code",
    "id": "1iuV5XPCZ8v4"
   },
   "outputs": [],
   "source": [
    "feature_file = '/path/to/file/BiT-m-r152x4_feature.npz'\n",
    "feature_dict = np.load(feature_file)\n",
    "\n",
    "feature_names = [i.strip(\"'\") for i in list(feature_dict.keys())]\n",
    "features = np.array(list(feature_dict.values()))\n",
    "\n",
    "scaler = StandardScaler()\n",
    "features = scaler.fit_transform(features)\n",
    "\n",
    "feature_dict = {n: f for n, f in zip(feature_names, features)}"
   ]
  },
  {
   "cell_type": "code",
   "execution_count": null,
   "metadata": {
    "colab": {},
    "colab_type": "code",
    "id": "5vDE3Cu0ZYEc"
   },
   "outputs": [],
   "source": [
    "class KuratorDataset(torch.utils.data.Dataset):\n",
    "\n",
    "    def __init__(self, kuration_list, feature_dict):\n",
    "        self.kuration_list = kuration_list\n",
    "        self.feature_dict = feature_dict\n",
    "\n",
    "    def __len__(self):\n",
    "        return len(self.kuration_list)\n",
    "\n",
    "    def __getitem__(self, idx):\n",
    "        annotation = self.kuration_list[idx]\n",
    "        a, p, n = annotation[0], annotation[1],  np.random.choice(annotation[2:])\n",
    "        return self.feature_dict[a], self.feature_dict[p], self.feature_dict[n] "
   ]
  },
  {
   "cell_type": "code",
   "execution_count": null,
   "metadata": {
    "colab": {
     "base_uri": "https://localhost:8080/",
     "height": 34
    },
    "colab_type": "code",
    "executionInfo": {
     "elapsed": 569,
     "status": "ok",
     "timestamp": 1589803637165,
     "user": {
      "displayName": "Dominik Bönisch",
      "photoUrl": "https://lh3.googleusercontent.com/a-/AOh14GhKOWR8THR9qdTMvlOUgs_jDS8c90Gn7wTwJaxV=s64",
      "userId": "01670297113181042790"
     },
     "user_tz": -120
    },
    "id": "tu8fkjm6mJGe",
    "outputId": "6e57c5d7-516e-46bd-fe1f-5c743b4a2ae4"
   },
   "outputs": [],
   "source": [
    "len(annotations)"
   ]
  },
  {
   "cell_type": "code",
   "execution_count": null,
   "metadata": {
    "colab": {},
    "colab_type": "code",
    "id": "mYPNW7A4ZYsD"
   },
   "outputs": [],
   "source": [
    "ds = KuratorDataset(annotations, feature_dict)\n",
    "\n",
    "train_set, val_set = torch.utils.data.random_split(ds, [750, 250]) #split your data into training- and testset."
   ]
  },
  {
   "cell_type": "code",
   "execution_count": null,
   "metadata": {
    "colab": {},
    "colab_type": "code",
    "id": "Re4PHqQJfXHk"
   },
   "outputs": [],
   "source": [
    "dataloader = torch.utils.data.DataLoader(\n",
    "    train_set,\n",
    "    shuffle = True,\n",
    "    batch_size = 50,\n",
    "    num_workers = 4\n",
    "    )\n",
    "\n",
    "dataloader_val = torch.utils.data.DataLoader(\n",
    "    val_set,\n",
    "    shuffle = True,\n",
    "    batch_size = 50,\n",
    "    num_workers = 4\n",
    "    )"
   ]
  },
  {
   "cell_type": "code",
   "execution_count": null,
   "metadata": {
    "colab": {},
    "colab_type": "code",
    "id": "dtdswnbsgFJN"
   },
   "outputs": [],
   "source": [
    "loss_func = TripletCosineLoss()"
   ]
  },
  {
   "cell_type": "code",
   "execution_count": null,
   "metadata": {
    "colab": {
     "base_uri": "https://localhost:8080/",
     "height": 34
    },
    "colab_type": "code",
    "executionInfo": {
     "elapsed": 90595,
     "status": "ok",
     "timestamp": 1589445621805,
     "user": {
      "displayName": "Dominik Bönisch",
      "photoUrl": "https://lh3.googleusercontent.com/a-/AOh14GhKOWR8THR9qdTMvlOUgs_jDS8c90Gn7wTwJaxV=s64",
      "userId": "01670297113181042790"
     },
     "user_tz": -120
    },
    "id": "oQ-2D75Qg5lq",
    "outputId": "e033cdf8-00d6-4265-85b6-53fde8919919"
   },
   "outputs": [],
   "source": [
    "features.shape"
   ]
  },
  {
   "cell_type": "code",
   "execution_count": null,
   "metadata": {
    "colab": {},
    "colab_type": "code",
    "id": "B0p3nxPUx9Qn"
   },
   "outputs": [],
   "source": [
    "def weights_init(m):\n",
    "    classname = m.__class__.__name__\n",
    "    if classname.find('Linear') != -1:\n",
    "        m.weight.data.normal_(0.0, 0.01)\n",
    "        m.bias.data.fill_(0)"
   ]
  },
  {
   "cell_type": "code",
   "execution_count": null,
   "metadata": {
    "colab": {},
    "colab_type": "code",
    "id": "hZYv-Q0WgLUQ"
   },
   "outputs": [],
   "source": [
    "model = Imagedescription(8192, 8, 8192) #check the shape of your features\n",
    "model.apply(weights_init)\n",
    "\n",
    "model.to('cpu') \n",
    "\n",
    "train_history = []\n",
    "val_history = []"
   ]
  },
  {
   "cell_type": "code",
   "execution_count": null,
   "metadata": {
    "colab": {},
    "colab_type": "code",
    "id": "tTuoWjE3ijp_"
   },
   "outputs": [],
   "source": [
    "optimizer = torch.optim.Adam(\n",
    "    model.parameters(), \n",
    "    lr=1E-4, \n",
    "    weight_decay=0.01 #the higher the more conservative\n",
    ")"
   ]
  },
  {
   "cell_type": "code",
   "execution_count": null,
   "metadata": {
    "colab": {},
    "colab_type": "code",
    "id": "a_bfVh4hDBbD"
   },
   "outputs": [],
   "source": [
    "def mean_rank():\n",
    "    ranks = []\n",
    "    for index in val_set.indices:\n",
    "        anno = annotations[index]\n",
    "        with torch.no_grad():\n",
    "            features = np.vstack([feature_dict[k] for k in anno])\n",
    "            new_features = model(torch.tensor(features).to('cpu')).cpu().detach().numpy() \n",
    "            simil = []\n",
    "            for i in range(1, len(anno)):\n",
    "                simil.append(1 - scipy.spatial.distance.cosine(new_features[0], new_features[i]))\n",
    "            rank = np.argsort(simil)[0]\n",
    "            ranks.append(rank)\n",
    "    return np.mean(ranks)\n",
    "\n",
    "def val_loss():\n",
    "    val_loss = 0\n",
    "    nk = 10\n",
    "    for k in range(nk):\n",
    "        for a, p, n in dataloader_val:\n",
    "\n",
    "            code_a = model(a.to('cpu')) \n",
    "            code_p = model(p.to('cpu'))\n",
    "            code_n = model(n.to('cpu'))\n",
    "\n",
    "            loss = loss_func(code_a, code_p, code_n)\n",
    "            val_loss += loss.item()\n",
    "    return val_loss/nk/len(dataloader_val)"
   ]
  },
  {
   "cell_type": "code",
   "execution_count": null,
   "metadata": {
    "colab": {
     "base_uri": "https://localhost:8080/",
     "height": 1000
    },
    "colab_type": "code",
    "executionInfo": {
     "elapsed": 787960,
     "status": "ok",
     "timestamp": 1589446319188,
     "user": {
      "displayName": "Dominik Bönisch",
      "photoUrl": "https://lh3.googleusercontent.com/a-/AOh14GhKOWR8THR9qdTMvlOUgs_jDS8c90Gn7wTwJaxV=s64",
      "userId": "01670297113181042790"
     },
     "user_tz": -120
    },
    "id": "geKF4tg2gWSg",
    "outputId": "77e59b6f-1be1-4eae-f8cb-93b35b99a2b5",
    "scrolled": true
   },
   "outputs": [],
   "source": [
    "for epoch in range(300):\n",
    "    \n",
    "    with tqdm(total=len(dataloader), desc=f'Epoch') as pbar:\n",
    "        model.train()\n",
    "\n",
    "        train_loss = 0\n",
    "        for a, p, n in dataloader:\n",
    "\n",
    "            optimizer.zero_grad()\n",
    "\n",
    "            code_a = model(a.to('cpu'))\n",
    "            code_p = model(p.to('cpu'))\n",
    "            code_n = model(n.to('cpu'))\n",
    "\n",
    "            loss = loss_func(code_a, code_p, code_n)\n",
    "            train_loss += loss.item()\n",
    "\n",
    "            pbar.set_postfix_str(f'Loss: {loss.item():.3f}')\n",
    "            pbar.update(1)\n",
    "            \n",
    "            loss.backward()\n",
    "            optimizer.step()\n",
    "        \n",
    "        model.eval()\n",
    "        train_history.append(train_loss/len(dataloader))\n",
    "        val_history.append(val_loss())\n",
    "        pbar.set_postfix_str(f'Loss: {train_history[-1]:.3f}, Val Loss: {val_history[-1]:.3f}, Val Rank: {mean_rank():.3f}')\n"
   ]
  },
  {
   "cell_type": "code",
   "execution_count": null,
   "metadata": {
    "colab": {
     "base_uri": "https://localhost:8080/",
     "height": 265
    },
    "colab_type": "code",
    "executionInfo": {
     "elapsed": 1249,
     "status": "ok",
     "timestamp": 1589446681473,
     "user": {
      "displayName": "Dominik Bönisch",
      "photoUrl": "https://lh3.googleusercontent.com/a-/AOh14GhKOWR8THR9qdTMvlOUgs_jDS8c90Gn7wTwJaxV=s64",
      "userId": "01670297113181042790"
     },
     "user_tz": -120
    },
    "id": "C9Wdg_rTi7Kq",
    "outputId": "b4b241bf-78b3-4351-a4c6-38d657230604"
   },
   "outputs": [],
   "source": [
    "import matplotlib.pyplot as plt\n",
    "\n",
    "plt.plot(train_history)\n",
    "plt.plot(val_history)\n",
    "\n",
    "plt.grid()"
   ]
  },
  {
   "cell_type": "code",
   "execution_count": null,
   "metadata": {
    "colab": {},
    "colab_type": "code",
    "id": "RtAvyXa67s16"
   },
   "outputs": [],
   "source": [
    "new_features = {}\n",
    "\n",
    "model.eval()\n",
    "for k, v in feature_dict.items():\n",
    "    new_features[k] = model(torch.tensor(v).to('cpu')).cpu().detach().numpy()"
   ]
  },
  {
   "cell_type": "code",
   "execution_count": null,
   "metadata": {
    "colab": {
     "base_uri": "https://localhost:8080/",
     "height": 34
    },
    "colab_type": "code",
    "executionInfo": {
     "elapsed": 812001,
     "status": "ok",
     "timestamp": 1589446343255,
     "user": {
      "displayName": "Dominik Bönisch",
      "photoUrl": "https://lh3.googleusercontent.com/a-/AOh14GhKOWR8THR9qdTMvlOUgs_jDS8c90Gn7wTwJaxV=s64",
      "userId": "01670297113181042790"
     },
     "user_tz": -120
    },
    "id": "F9VkLBC39NiQ",
    "outputId": "d67ece9c-4b78-43d0-f777-8914b4e36048"
   },
   "outputs": [],
   "source": [
    "len(new_features)"
   ]
  },
  {
   "cell_type": "code",
   "execution_count": null,
   "metadata": {
    "colab": {},
    "colab_type": "code",
    "id": "pffqBr6HzzNd"
   },
   "outputs": [],
   "source": [
    "feature_file = '/create/a/path/to/save/file/relearned_BiT-M152x4.npz'\n",
    "np.savez(feature_file, **new_features)"
   ]
  },
  {
   "cell_type": "code",
   "execution_count": null,
   "metadata": {},
   "outputs": [],
   "source": [
    "#review the scores of the network to evaluate the success of the training"
   ]
  },
  {
   "cell_type": "code",
   "execution_count": null,
   "metadata": {
    "colab": {},
    "colab_type": "code",
    "id": "TF1LRyjE_lxv"
   },
   "outputs": [],
   "source": [
    "import os\n",
    "from tensorflow.keras.preprocessing import image\n",
    "scraped_images_folder = '/set/the/path/to/your/scraped/images/'"
   ]
  },
  {
   "cell_type": "code",
   "execution_count": null,
   "metadata": {
    "colab": {},
    "colab_type": "code",
    "id": "nglqtfDB_sMw"
   },
   "outputs": [],
   "source": [
    "def vis(image_name, feature2compare):\n",
    "    im_name = os.path.join(scraped_images_folder, image_name.strip(\"'\"))\n",
    "    im = image.load_img(im_name, target_size=(224,224))\n",
    "    plt.imshow(im)\n",
    "    feature = model(torch.tensor(feature_dict[image_name]).to('cpu')) #'cuda' für gpu \n",
    "    score = torch.nn.functional.cosine_similarity(feature, feature2compare, dim=0).cpu().detach().numpy()\n",
    "    plt.title(f'score: {score:.02f}')\n",
    "    plt.axis(False)"
   ]
  },
  {
   "cell_type": "code",
   "execution_count": null,
   "metadata": {
    "colab": {
     "base_uri": "https://localhost:8080/",
     "height": 187
    },
    "colab_type": "code",
    "executionInfo": {
     "elapsed": 860312,
     "status": "ok",
     "timestamp": 1589446391580,
     "user": {
      "displayName": "Dominik Bönisch",
      "photoUrl": "https://lh3.googleusercontent.com/a-/AOh14GhKOWR8THR9qdTMvlOUgs_jDS8c90Gn7wTwJaxV=s64",
      "userId": "01670297113181042790"
     },
     "user_tz": -120
    },
    "id": "d0bvztWS3wrA",
    "outputId": "6b37accb-01ee-4849-96d3-1ad124c16c80"
   },
   "outputs": [],
   "source": [
    "# untrained\n",
    "np.sort(val_set.indices)"
   ]
  },
  {
   "cell_type": "code",
   "execution_count": null,
   "metadata": {
    "colab": {
     "base_uri": "https://localhost:8080/",
     "height": 323
    },
    "colab_type": "code",
    "executionInfo": {
     "elapsed": 66438,
     "status": "ok",
     "timestamp": 1589446753973,
     "user": {
      "displayName": "Dominik Bönisch",
      "photoUrl": "https://lh3.googleusercontent.com/a-/AOh14GhKOWR8THR9qdTMvlOUgs_jDS8c90Gn7wTwJaxV=s64",
      "userId": "01670297113181042790"
     },
     "user_tz": -120
    },
    "id": "YRfdekYxAH5S",
    "outputId": "1202d5a1-50eb-43f4-e410-54127ca35ae6"
   },
   "outputs": [],
   "source": [
    "to_show = annotations[25]\n",
    "\n",
    "a, b = to_show[:2]\n",
    "main_feature = model(torch.tensor(feature_dict[a]).to('cpu'))\n",
    "\n",
    "plt.figure(figsize=(5,10))\n",
    "plt.subplot(121)\n",
    "vis(a, main_feature)\n",
    "plt.subplot(122)\n",
    "vis(b, main_feature)\n",
    "\n",
    "plt.figure(figsize=(20,3))\n",
    "for i, c in enumerate(to_show[2:]):\n",
    "    plt.subplot(1,8,i+1)\n",
    "    vis(c, main_feature)"
   ]
  }
 ],
 "metadata": {
  "accelerator": "GPU",
  "colab": {
   "collapsed_sections": [],
   "name": "Projekt6.1 - Erweiterung des Training of SimilarityNet.ipynb",
   "provenance": [
    {
     "file_id": "1wgGUuxW8IOHgDyYv6QAJ59yHbFXo0q8G",
     "timestamp": 1588778790560
    }
   ]
  },
  "kernelspec": {
   "display_name": "Python 3",
   "language": "python",
   "name": "python3"
  },
  "language_info": {
   "codemirror_mode": {
    "name": "ipython",
    "version": 3
   },
   "file_extension": ".py",
   "mimetype": "text/x-python",
   "name": "python",
   "nbconvert_exporter": "python",
   "pygments_lexer": "ipython3",
   "version": "3.7.6"
  }
 },
 "nbformat": 4,
 "nbformat_minor": 4
}
