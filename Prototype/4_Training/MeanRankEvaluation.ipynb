{
 "cells": [
  {
   "cell_type": "code",
   "execution_count": null,
   "metadata": {
    "colab": {},
    "colab_type": "code",
    "id": "VftMXaNOlxmY"
   },
   "outputs": [],
   "source": [
    "import numpy as np\n",
    "from sklearn.decomposition import PCA\n",
    "import scipy"
   ]
  },
  {
   "cell_type": "code",
   "execution_count": null,
   "metadata": {
    "colab": {
     "base_uri": "https://localhost:8080/",
     "height": 124
    },
    "colab_type": "code",
    "executionInfo": {
     "elapsed": 27357,
     "status": "ok",
     "timestamp": 1592822620692,
     "user": {
      "displayName": "thomas rost",
      "photoUrl": "https://lh3.googleusercontent.com/a-/AOh14GjhY3ydEDNEL5jz9vvC4UnBjE-A4s_tIFFTohITgg=s64",
      "userId": "03548187508183539636"
     },
     "user_tz": -120
    },
    "id": "XwNnArZYmFVg",
    "outputId": "786efdd2-7f05-4a21-ec7f-d84c25b953f6"
   },
   "outputs": [],
   "source": [
    "# If you're working with Colab mount your drive or skip this step\n",
    "from google.colab import drive\n",
    "drive.mount('/content/drive')"
   ]
  },
  {
   "cell_type": "code",
   "execution_count": null,
   "metadata": {
    "colab": {},
    "colab_type": "code",
    "id": "vRsHllJPC2lH"
   },
   "outputs": [],
   "source": [
    "scraped_images_folder = '/set/the/path/to/your/scraped/images/'\n",
    "annotation_file = '/path/to/file/trainingdata.txt'"
   ]
  },
  {
   "cell_type": "code",
   "execution_count": null,
   "metadata": {
    "colab": {},
    "colab_type": "code",
    "id": "tvHWDI9MoWCL"
   },
   "outputs": [],
   "source": [
    "feature_files = [('/path/to/file/BiT-m-r152x4_feature.npz', None),\n",
    "                 ('/path/to/another/feature_file.npz', 0.9)\n",
    "                 ]\n",
    "# Here you must now specify a list of tuples with the form (feature_file, components).\n",
    "# Components is the parameter for the PCA or is set to None.\n",
    "# You can stack different feature-files and combine them.\n",
    "# PCA: Reduce the number of dimensions to n_components  \n",
    "# If n_components is between 0-1 it controlls the fraction of explained variance\n",
    "# If it is integer, it controlls the number of components directly"
   ]
  },
  {
   "cell_type": "code",
   "execution_count": null,
   "metadata": {},
   "outputs": [],
   "source": [
    "# fix feature files if necessary\n",
    "for feature_file,_ in feature_files:\n",
    "    feature_dict = np.load(feature_file)\n",
    "    keys = list(feature_dict.keys())\n",
    "    if \"'\" in keys[0]:\n",
    "        print('fixing '+feature_file)\n",
    "        new_dict = {}\n",
    "        for k in keys:\n",
    "            new_dict[k.replace(\"'\",'')] = feature_dict[k]\n",
    "        np.savez(feature_file, **new_dict)"
   ]
  },
  {
   "cell_type": "code",
   "execution_count": null,
   "metadata": {
    "colab": {
     "base_uri": "https://localhost:8080/",
     "height": 34
    },
    "colab_type": "code",
    "executionInfo": {
     "elapsed": 62771,
     "status": "ok",
     "timestamp": 1592824547972,
     "user": {
      "displayName": "thomas rost",
      "photoUrl": "https://lh3.googleusercontent.com/a-/AOh14GjhY3ydEDNEL5jz9vvC4UnBjE-A4s_tIFFTohITgg=s64",
      "userId": "03548187508183539636"
     },
     "user_tz": -120
    },
    "id": "S2L0KmUYn3Ht",
    "outputId": "9e1845b3-6b6f-4be9-9eee-3154b851ab54"
   },
   "outputs": [],
   "source": [
    "# Collect all the feature files\n",
    "feature_dicts = []\n",
    "image_name_lists = []\n",
    "for feature_file,components in feature_files:\n",
    "    feature_dict = dict(np.load(feature_file))\n",
    "    # do local pca on features\n",
    "    image_names = np.array(list(feature_dict.keys()))\n",
    "    features = np.array(list(feature_dict.values()))\n",
    "    if components is not None:\n",
    "        pca = PCA(n_components = components,whiten = True)\n",
    "        features = pca.fit_transform(features)\n",
    "        feature_dict = dict(zip(image_names,features))\n",
    "    feature_dicts.append(feature_dict) \n",
    "    keys =feature_dict.keys()\n",
    "    image_name_lists.append(keys)\n",
    "    print(f'using {features.shape[1]} features from {feature_file}')\n",
    "\n",
    "# Make sure we use only image names occuring in all files\n",
    "image_names  = set(image_name_lists[0])\n",
    "for image_name_list in image_name_lists[1:]:\n",
    "    image_names = image_names.intersection(set(image_name_list))\n",
    "image_names = list(image_names)\n",
    "\n",
    "feature_dict = {}\n",
    "features = []\n",
    "for image_name in image_names:\n",
    "    feature = []\n",
    "    for fd in feature_dicts:\n",
    "        feature.append(fd[image_name])\n",
    "    features.append(np.concatenate(feature))\n",
    "    feature_dict[image_name] = np.concatenate(feature)\n",
    "\n",
    "image_names = np.array(image_names)\n",
    "all_features = np.array(features)"
   ]
  },
  {
   "cell_type": "code",
   "execution_count": null,
   "metadata": {
    "colab": {},
    "colab_type": "code",
    "id": "RrgZgRYIoJ7M"
   },
   "outputs": [],
   "source": [
    "annotations = open(annotation_file).readlines()\n",
    "annotations = [l.strip().split(',') for l in annotations]"
   ]
  },
  {
   "cell_type": "code",
   "execution_count": null,
   "metadata": {
    "colab": {
     "base_uri": "https://localhost:8080/",
     "height": 34
    },
    "colab_type": "code",
    "executionInfo": {
     "elapsed": 44527,
     "status": "ok",
     "timestamp": 1592825124756,
     "user": {
      "displayName": "thomas rost",
      "photoUrl": "https://lh3.googleusercontent.com/a-/AOh14GjhY3ydEDNEL5jz9vvC4UnBjE-A4s_tIFFTohITgg=s64",
      "userId": "03548187508183539636"
     },
     "user_tz": -120
    },
    "id": "8tE_L4oKpwNi",
    "outputId": "7e70306c-a6dd-4130-875b-48130aa3ccb2"
   },
   "outputs": [],
   "source": [
    "ranks = []\n",
    "for annotation in annotations:\n",
    "    annotation_features =  [feature_dict[a] for a in annotation]\n",
    "    anchor = annotation_features[0]\n",
    "    others = annotation_features[1:]\n",
    "    distances = [ scipy.spatial.distance.cosine(anchor,other) for other in others]\n",
    "    order = np.argsort(distances)\n",
    "    rank =  np.where(order == 0)[0]+1\n",
    "    ranks.append(rank)\n",
    "\n",
    "mean_rank = np.array(ranks).mean()\n",
    "\n",
    "print(f'the mean rank is {mean_rank}')"
   ]
  }
 ],
 "metadata": {
  "colab": {
   "collapsed_sections": [],
   "name": "Projekt6.2 - MeanRankEvaluation.ipynb",
   "provenance": [
    {
     "file_id": "1LA7XnB0YritTBgDwIc1r6MlqFs9CEHr8",
     "timestamp": 1592828549399
    }
   ]
  },
  "kernelspec": {
   "display_name": "Python 3",
   "language": "python",
   "name": "python3"
  },
  "language_info": {
   "codemirror_mode": {
    "name": "ipython",
    "version": 3
   },
   "file_extension": ".py",
   "mimetype": "text/x-python",
   "name": "python",
   "nbconvert_exporter": "python",
   "pygments_lexer": "ipython3",
   "version": "3.7.6"
  }
 },
 "nbformat": 4,
 "nbformat_minor": 4
}
