{
 "cells": [
  {
   "cell_type": "markdown",
   "metadata": {
    "colab_type": "text",
    "id": "1T1b-mzjckzO"
   },
   "source": [
    "## Self Mean Rank\n",
    "\n",
    "In this notebook you will be shown examples from your own annotation file. The first picture you have chosen from a random collection as anchor. The remaining eight images have to be sorted according to the probability that you would select them as matching. The rank is then calculated from the position of the image you originally annotated as matching. This is a lot of work, but the more examples you rate, the better the result will be."
   ]
  },
  {
   "cell_type": "code",
   "execution_count": null,
   "metadata": {
    "colab": {},
    "colab_type": "code",
    "id": "6uOtagQChWXC"
   },
   "outputs": [],
   "source": [
    "import glob\n",
    "import os\n",
    "from random import choice,shuffle\n",
    "from IPython import display\n",
    "from matplotlib import pyplot as plt\n",
    "import numpy as np"
   ]
  },
  {
   "cell_type": "code",
   "execution_count": null,
   "metadata": {},
   "outputs": [],
   "source": [
    "#If you're working with Colab mount your drive or skip this step\n",
    "from google.colab import drive\n",
    "drive.mount('/content/drive')"
   ]
  },
  {
   "cell_type": "code",
   "execution_count": null,
   "metadata": {
    "colab": {},
    "colab_type": "code",
    "id": "RpmduDB6h0Zq"
   },
   "outputs": [],
   "source": [
    "scraped_images_folder = '/set/the/path/to/your/scraped/images/'\n",
    "annotation_file = '/path/to/file/trainingdata.txt'\n",
    "rank_file = '/path/to/save/the/file/self_rank.txt'"
   ]
  },
  {
   "cell_type": "code",
   "execution_count": null,
   "metadata": {
    "colab": {},
    "colab_type": "code",
    "id": "WijDRC57iDbG"
   },
   "outputs": [],
   "source": [
    "annotations = open(annotation_file).readlines()\n",
    "annotations = [l.strip().split(',') for l in annotations]"
   ]
  },
  {
   "cell_type": "code",
   "execution_count": null,
   "metadata": {
    "colab": {},
    "colab_type": "code",
    "id": "AB2VrwTtRBps"
   },
   "outputs": [],
   "source": [
    "N_ranks = 20 # number of total runs. Increase for new runs."
   ]
  },
  {
   "cell_type": "code",
   "execution_count": null,
   "metadata": {
    "colab": {
     "base_uri": "https://localhost:8080/",
     "height": 1000
    },
    "colab_type": "code",
    "id": "5aP5FcBUmjF1",
    "outputId": "bb2bb50e-cf08-42a6-a7b2-1bc7039488f7"
   },
   "outputs": [],
   "source": [
    "try:\n",
    "    with open(rank_file, 'r') as opened_file:\n",
    "        ranks = [int(r) for r in opened_file.readlines()]\n",
    "except:\n",
    "    ranks = []\n",
    "    f = open(rank_file, 'w')\n",
    "print(f'{N_ranks-len(ranks)} rankings to go...')\n",
    "while len(ranks)<N_ranks:\n",
    "    # pick a random annotation line\n",
    "    annotation = choice(annotations)\n",
    "    anchor = annotation[0]\n",
    "    remaining_images = annotation[1:]\n",
    "    # plot the anchor image:\n",
    "    fig1 = plt.figure(figsize = (5,5))\n",
    "    img = plt.imread(os.path.join(scraped_images_folder,anchor))\n",
    "    plt.imshow(img)\n",
    "    plt.axis('off')\n",
    "    plt.title('Anchor', color='w')\n",
    "    display.display(fig1)\n",
    "    fig2 = plt.figure(figsize = (10,10))\n",
    "    order = np.arange(len(remaining_images))\n",
    "    shuffle(order)\n",
    "\n",
    "    for i,o in enumerate(order):\n",
    "        \n",
    "        plt.subplot(2,4,i+1)\n",
    "        img = plt.imread(os.path.join(scraped_images_folder,remaining_images[o]))\n",
    "        plt.imshow(img)\n",
    "        plt.axis('off')\n",
    "        plt.title(str(i), color='w')\n",
    "\n",
    "    display.display(fig2)\n",
    "    \n",
    "    print('enter order of images, separated by \",\". (x to quit)')\n",
    "    entry = input('')\n",
    "    if 'x' in entry:\n",
    "        display.clear_output()\n",
    "        break\n",
    "    try:\n",
    "        user_order = [int(n) for n in entry.split(',')]\n",
    "        assert set(user_order) == set(range(8))\n",
    "    except:\n",
    "        print('invalid input')\n",
    "        display.clear_output()\n",
    "        continue\n",
    "    \n",
    "    true_order =  [order[u] for u in user_order]\n",
    "    rank = true_order.index(0)+1\n",
    "    ranks.append(rank)\n",
    "    \n",
    "    display.clear_output()\n",
    "    with open(rank_file, 'a') as opened_file:\n",
    "        opened_file.write(str(rank) + '\\n')\n",
    "    \n",
    "\n",
    "print('finished!')"
   ]
  },
  {
   "cell_type": "code",
   "execution_count": null,
   "metadata": {
    "colab": {
     "base_uri": "https://localhost:8080/",
     "height": 34
    },
    "colab_type": "code",
    "id": "rZrbA93tVTp2",
    "outputId": "62633001-a00f-4389-9774-b08de30b8999"
   },
   "outputs": [],
   "source": [
    "with open(rank_file, 'r') as opened_file:\n",
    "    ranks = [int(r) for r in opened_file.readlines()]\n",
    "\n",
    "mean_rank = np.array(ranks).mean()\n",
    "\n",
    "print(f'your mean rank is {mean_rank}')"
   ]
  },
  {
   "cell_type": "code",
   "execution_count": null,
   "metadata": {},
   "outputs": [],
   "source": [
    "#check your results\n",
    "len(ranks)"
   ]
  },
  {
   "cell_type": "code",
   "execution_count": null,
   "metadata": {},
   "outputs": [],
   "source": [
    "ranks"
   ]
  }
 ],
 "metadata": {
  "colab": {
   "collapsed_sections": [],
   "name": "SelfMeanRank.ipynb",
   "provenance": [],
   "toc_visible": true
  },
  "kernelspec": {
   "display_name": "Python 3",
   "language": "python",
   "name": "python3"
  },
  "language_info": {
   "codemirror_mode": {
    "name": "ipython",
    "version": 3
   },
   "file_extension": ".py",
   "mimetype": "text/x-python",
   "name": "python",
   "nbconvert_exporter": "python",
   "pygments_lexer": "ipython3",
   "version": "3.7.6"
  }
 },
 "nbformat": 4,
 "nbformat_minor": 4
}
