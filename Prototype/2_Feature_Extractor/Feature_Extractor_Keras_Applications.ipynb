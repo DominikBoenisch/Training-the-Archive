{
 "cells": [
  {
   "cell_type": "code",
   "execution_count": null,
   "metadata": {},
   "outputs": [],
   "source": [
    "# We will now extract the feature vectors from an existing network to use them later for clustering our scrapped data. \n",
    "# In this notebook the features for the Inception_V3 are extracted exemplarily. \n",
    "# However, another Keras model can also be used (https://keras.io/api/applications/)."
   ]
  },
  {
   "cell_type": "code",
   "execution_count": null,
   "metadata": {
    "colab": {
     "base_uri": "https://localhost:8080/",
     "height": 34
    },
    "colab_type": "code",
    "executionInfo": {
     "elapsed": 5437,
     "status": "ok",
     "timestamp": 1585142057071,
     "user": {
      "displayName": "Dominik Bönisch",
      "photoUrl": "https://lh3.googleusercontent.com/a-/AOh14GhKOWR8THR9qdTMvlOUgs_jDS8c90Gn7wTwJaxV=s64",
      "userId": "01670297113181042790"
     },
     "user_tz": -60
    },
    "id": "9BLDUtW5i4Bd",
    "outputId": "365b0768-1fab-4bf1-e3e7-423977c5db42"
   },
   "outputs": [],
   "source": [
    "%tensorflow_version 2.x\n",
    "import tensorflow as tf"
   ]
  },
  {
   "cell_type": "code",
   "execution_count": null,
   "metadata": {
    "colab": {},
    "colab_type": "code",
    "id": "A2Wvqs5Gi0eO"
   },
   "outputs": [],
   "source": [
    "import numpy as np\n",
    "from tensorflow.keras import preprocessing"
   ]
  },
  {
   "cell_type": "code",
   "execution_count": null,
   "metadata": {
    "colab": {
     "base_uri": "https://localhost:8080/",
     "height": 122
    },
    "colab_type": "code",
    "executionInfo": {
     "elapsed": 22230,
     "status": "ok",
     "timestamp": 1585142084807,
     "user": {
      "displayName": "Dominik Bönisch",
      "photoUrl": "https://lh3.googleusercontent.com/a-/AOh14GhKOWR8THR9qdTMvlOUgs_jDS8c90Gn7wTwJaxV=s64",
      "userId": "01670297113181042790"
     },
     "user_tz": -60
    },
    "id": "OAa8-jpOiVli",
    "outputId": "fc1d32e3-cfad-4941-fe91-e6f1cc6312e8"
   },
   "outputs": [],
   "source": [
    "#If you're working with Colab mount your drive or skip this step\n",
    "from google.colab import drive\n",
    "drive.mount('/content/drive')"
   ]
  },
  {
   "cell_type": "markdown",
   "metadata": {
    "colab_type": "text",
    "id": "C_-refEDw8cF"
   },
   "source": [
    "### Building the feature extractor"
   ]
  },
  {
   "cell_type": "code",
   "execution_count": null,
   "metadata": {
    "colab": {},
    "colab_type": "code",
    "id": "Vzn3zVuViuZo"
   },
   "outputs": [],
   "source": [
    "from tensorflow.keras.applications import inception_v3"
   ]
  },
  {
   "cell_type": "code",
   "execution_count": null,
   "metadata": {
    "colab": {
     "base_uri": "https://localhost:8080/",
     "height": 51
    },
    "colab_type": "code",
    "executionInfo": {
     "elapsed": 14987,
     "status": "ok",
     "timestamp": 1585142105382,
     "user": {
      "displayName": "Dominik Bönisch",
      "photoUrl": "https://lh3.googleusercontent.com/a-/AOh14GhKOWR8THR9qdTMvlOUgs_jDS8c90Gn7wTwJaxV=s64",
      "userId": "01670297113181042790"
     },
     "user_tz": -60
    },
    "id": "y08Vzp_LnzYu",
    "outputId": "59bbe7c5-97ca-4c96-a580-09e5f48af85c"
   },
   "outputs": [],
   "source": [
    "base_model = inception_v3.InceptionV3(\n",
    "    include_top = False, # we will not use the predictions\n",
    "    weights='imagenet'\n",
    ")\n",
    "\n",
    "pooling = tf.keras.layers.MaxPooling2D(pool_size=(5, 5))\n",
    "feature_extractor = tf.keras.Sequential()\n",
    "feature_extractor.add(base_model)\n",
    "feature_extractor.add(pooling)"
   ]
  },
  {
   "cell_type": "markdown",
   "metadata": {
    "colab_type": "text",
    "id": "NJLLBRwIxJXp"
   },
   "source": [
    "### Building the data pipeline"
   ]
  },
  {
   "cell_type": "code",
   "execution_count": null,
   "metadata": {
    "colab": {},
    "colab_type": "code",
    "id": "1AvUh0jkjLnp"
   },
   "outputs": [],
   "source": [
    "scraped_images_folder = '/set/the/path/to/your/scraped/images/'"
   ]
  },
  {
   "cell_type": "code",
   "execution_count": null,
   "metadata": {
    "colab": {},
    "colab_type": "code",
    "id": "8YpDIv4ulVTN"
   },
   "outputs": [],
   "source": [
    "filelist_ds = tf.data.Dataset.list_files(scraped_images_folder+'/*')\n",
    "# If you get an input/output error in Colab, try a few times until the whole dataset is loaded"
   ]
  },
  {
   "cell_type": "code",
   "execution_count": null,
   "metadata": {
    "colab": {},
    "colab_type": "code",
    "id": "5e7OOvn5mYNp"
   },
   "outputs": [],
   "source": [
    "IMG_WIDTH, IMG_HEIGHT = 224, 224\n",
    "\n",
    "def load_img(file_path):\n",
    "    img = tf.io.read_file(file_path)\n",
    "    # convert the compressed string to a 3D uint8 tensor\n",
    "    img = tf.image.decode_jpeg(img, channels=3)\n",
    "    # Use `convert_image_dtype` to convert to floats in the [0,1] range.\n",
    "    img = tf.image.convert_image_dtype(img, tf.float32)\n",
    "    # resize the image to the desired size\n",
    "    img = tf.image.resize(img, [IMG_WIDTH, IMG_HEIGHT])\n",
    "    # and preprocess\n",
    "    img = inception_v3.preprocess_input(img)\n",
    "    return file_path, img"
   ]
  },
  {
   "cell_type": "code",
   "execution_count": null,
   "metadata": {
    "colab": {},
    "colab_type": "code",
    "id": "tkyA4v63mP1b"
   },
   "outputs": [],
   "source": [
    "dataset = filelist_ds.map(load_img)"
   ]
  },
  {
   "cell_type": "markdown",
   "metadata": {
    "colab_type": "text",
    "id": "UGrYMorRxQX6"
   },
   "source": [
    "### Extracting Features"
   ]
  },
  {
   "cell_type": "code",
   "execution_count": null,
   "metadata": {
    "colab": {
     "base_uri": "https://localhost:8080/",
     "height": 54
    },
    "colab_type": "code",
    "executionInfo": {
     "elapsed": 16012150,
     "status": "ok",
     "timestamp": 1585158781332,
     "user": {
      "displayName": "Dominik Bönisch",
      "photoUrl": "https://lh3.googleusercontent.com/a-/AOh14GhKOWR8THR9qdTMvlOUgs_jDS8c90Gn7wTwJaxV=s64",
      "userId": "01670297113181042790"
     },
     "user_tz": -60
    },
    "id": "uj3lclbXpYUn",
    "outputId": "ae61fd33-af2b-486d-9bb5-549981c49b8f"
   },
   "outputs": [],
   "source": [
    "batched_ds = dataset.batch(64)\n",
    "\n",
    "feature_collection = {}\n",
    "for filenames, img in batched_ds:\n",
    "    features = feature_extractor(img)\n",
    "    feature_dict = {\n",
    "        str(name).split('/')[-1]: feature.squeeze() \n",
    "        for name, feature in zip(filenames.numpy(), features.numpy())\n",
    "    }\n",
    "    feature_collection.update(feature_dict)\n",
    "    print('*', end='')\n",
    "features = np.vstack(features).squeeze()"
   ]
  },
  {
   "cell_type": "code",
   "execution_count": null,
   "metadata": {
    "colab": {
     "base_uri": "https://localhost:8080/",
     "height": 34
    },
    "colab_type": "code",
    "executionInfo": {
     "elapsed": 670,
     "status": "ok",
     "timestamp": 1585158819939,
     "user": {
      "displayName": "Dominik Bönisch",
      "photoUrl": "https://lh3.googleusercontent.com/a-/AOh14GhKOWR8THR9qdTMvlOUgs_jDS8c90Gn7wTwJaxV=s64",
      "userId": "01670297113181042790"
     },
     "user_tz": -60
    },
    "id": "mCR2Pk9QvLzH",
    "outputId": "4a2b8eff-f065-40bf-d8ba-837173b9230e"
   },
   "outputs": [],
   "source": [
    "len(feature_collection)"
   ]
  },
  {
   "cell_type": "markdown",
   "metadata": {
    "colab_type": "text",
    "id": "1ZYRDVK6yEYG"
   },
   "source": [
    "### Save the data"
   ]
  },
  {
   "cell_type": "code",
   "execution_count": null,
   "metadata": {
    "colab": {},
    "colab_type": "code",
    "id": "ynaGEvfUx2GM"
   },
   "outputs": [],
   "source": [
    "feature_file = '/create/a/path/to/save/file/inception_v3_feature.npz'"
   ]
  },
  {
   "cell_type": "code",
   "execution_count": null,
   "metadata": {
    "colab": {},
    "colab_type": "code",
    "id": "pJ-oMPKhxUYj"
   },
   "outputs": [],
   "source": [
    "np.savez(feature_file, **feature_collection)"
   ]
  },
  {
   "cell_type": "code",
   "execution_count": null,
   "metadata": {},
   "outputs": [],
   "source": [
    "features.shape # Features with shape [batch_size, 2048]."
   ]
  }
 ],
 "metadata": {
  "accelerator": "GPU",
  "colab": {
   "collapsed_sections": [],
   "machine_shape": "hm",
   "name": "Projekt3.0 - Feature_Extraktion_Images_inception_v3.ipynb",
   "provenance": [
    {
     "file_id": "1Ns51-WjQQZXrpUfo71dBPBQnw0cETNch",
     "timestamp": 1585142022247
    },
    {
     "file_id": "1ai_M5XzM7Md8rQ4xbZ1PB23dHeFMkFYK",
     "timestamp": 1584802059118
    }
   ]
  },
  "kernelspec": {
   "display_name": "Python 3",
   "language": "python",
   "name": "python3"
  },
  "language_info": {
   "codemirror_mode": {
    "name": "ipython",
    "version": 3
   },
   "file_extension": ".py",
   "mimetype": "text/x-python",
   "name": "python",
   "nbconvert_exporter": "python",
   "pygments_lexer": "ipython3",
   "version": "3.7.6"
  }
 },
 "nbformat": 4,
 "nbformat_minor": 4
}
