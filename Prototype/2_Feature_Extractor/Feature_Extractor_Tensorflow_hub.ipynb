{
 "cells": [
  {
   "cell_type": "code",
   "execution_count": null,
   "metadata": {
    "scrolled": true
   },
   "outputs": [],
   "source": [
    "# We will now extract the feature vectors from an existing network to use them later for clustering our scrapped data. \n",
    "# In this notebook the features for the BiT network are extracted exemplarily (https://tfhub.dev/google/bit/m-r152x4/1). \n",
    "# However, another Keras model can also be used (https://keras.io/api/applications/)."
   ]
  },
  {
   "cell_type": "code",
   "execution_count": null,
   "metadata": {
    "colab": {},
    "colab_type": "code",
    "id": "9BLDUtW5i4Bd"
   },
   "outputs": [],
   "source": [
    "%tensorflow_version 2.x\n",
    "import tensorflow as tf\n",
    "import numpy as np"
   ]
  },
  {
   "cell_type": "code",
   "execution_count": null,
   "metadata": {
    "colab": {
     "base_uri": "https://localhost:8080/",
     "height": 122
    },
    "colab_type": "code",
    "executionInfo": {
     "elapsed": 77759,
     "status": "ok",
     "timestamp": 1590739937255,
     "user": {
      "displayName": "Dominik Bönisch",
      "photoUrl": "https://lh3.googleusercontent.com/a-/AOh14GhKOWR8THR9qdTMvlOUgs_jDS8c90Gn7wTwJaxV=s64",
      "userId": "01670297113181042790"
     },
     "user_tz": -120
    },
    "id": "FjWiQ9Ki_GNp",
    "outputId": "4fa8871d-477f-4ed8-f02c-f117ef3413ef"
   },
   "outputs": [],
   "source": [
    "#If you're working with Colab mount your drive or skip this step\n",
    "from google.colab import drive\n",
    "drive.mount(\"/content/drive\")"
   ]
  },
  {
   "cell_type": "markdown",
   "metadata": {
    "colab_type": "text",
    "id": "C_-refEDw8cF"
   },
   "source": [
    "### Building the feature extractor"
   ]
  },
  {
   "cell_type": "code",
   "execution_count": null,
   "metadata": {
    "colab": {},
    "colab_type": "code",
    "id": "04dH7Ynd--1s"
   },
   "outputs": [],
   "source": [
    "import tensorflow_hub as hub"
   ]
  },
  {
   "cell_type": "code",
   "execution_count": null,
   "metadata": {
    "colab": {},
    "colab_type": "code",
    "id": "30ZsCD_d--1v"
   },
   "outputs": [],
   "source": [
    "base_model = hub.KerasLayer(\"https://tfhub.dev/google/bit/m-r152x4/1\") # for a different version check: https://tfhub.dev/s?q=bit"
   ]
  },
  {
   "cell_type": "markdown",
   "metadata": {
    "colab_type": "text",
    "id": "NJLLBRwIxJXp"
   },
   "source": [
    "### Building the data pipeline"
   ]
  },
  {
   "cell_type": "code",
   "execution_count": null,
   "metadata": {
    "colab": {},
    "colab_type": "code",
    "id": "1AvUh0jkjLnp"
   },
   "outputs": [],
   "source": [
    "scraped_images_folder = '/set/the/path/to/your/scraped/images/'"
   ]
  },
  {
   "cell_type": "code",
   "execution_count": null,
   "metadata": {
    "colab": {},
    "colab_type": "code",
    "id": "8YpDIv4ulVTN"
   },
   "outputs": [],
   "source": [
    "filelist_ds = tf.data.Dataset.list_files(scraped_images_folder+'/*') \n",
    "# If you get an input/output error in Colab, try a few times until the whole dataset is loaded"
   ]
  },
  {
   "cell_type": "code",
   "execution_count": null,
   "metadata": {
    "colab": {},
    "colab_type": "code",
    "id": "5e7OOvn5mYNp"
   },
   "outputs": [],
   "source": [
    "IMG_WIDTH, IMG_HEIGHT = 224, 224\n",
    "\n",
    "def load_img(file_path):\n",
    "    img = tf.io.read_file(file_path)\n",
    "    # convert the compressed string to a 3D uint8 tensor\n",
    "    img = tf.image.decode_jpeg(img, channels=3)\n",
    "    # Use `convert_image_dtype` to convert to floats in the [0,1] range.\n",
    "    img = tf.image.convert_image_dtype(img, tf.float32)\n",
    "    # resize the image to the desired size\n",
    "    img = tf.image.resize(img, [IMG_WIDTH, IMG_HEIGHT]) # A batch of images with shape [batch_size, height, width, 3]\n",
    "    return file_path, img"
   ]
  },
  {
   "cell_type": "code",
   "execution_count": null,
   "metadata": {
    "colab": {},
    "colab_type": "code",
    "id": "tkyA4v63mP1b"
   },
   "outputs": [],
   "source": [
    "dataset = filelist_ds.map(load_img)"
   ]
  },
  {
   "cell_type": "markdown",
   "metadata": {
    "colab_type": "text",
    "id": "UGrYMorRxQX6"
   },
   "source": [
    "### Extracting features"
   ]
  },
  {
   "cell_type": "code",
   "execution_count": null,
   "metadata": {
    "colab": {
     "base_uri": "https://localhost:8080/",
     "height": 34
    },
    "colab_type": "code",
    "executionInfo": {
     "elapsed": 381145,
     "status": "error",
     "timestamp": 1590682322070,
     "user": {
      "displayName": "Dominik Bönisch",
      "photoUrl": "https://lh3.googleusercontent.com/a-/AOh14GhKOWR8THR9qdTMvlOUgs_jDS8c90Gn7wTwJaxV=s64",
      "userId": "01670297113181042790"
     },
     "user_tz": -120
    },
    "id": "uj3lclbXpYUn",
    "outputId": "3ec6d14b-389b-4148-801b-9723ce889fdc"
   },
   "outputs": [],
   "source": [
    "batched_ds = dataset.batch(64)\n",
    "\n",
    "feature_collection = {}\n",
    "for filenames, img in batched_ds:\n",
    "    features = base_model(img)\n",
    "    feature_dict = {\n",
    "        str(name).split('/')[-1]: feature.squeeze() \n",
    "        for name, feature in zip(filenames.numpy(), features.numpy())\n",
    "    }\n",
    "    feature_collection.update(feature_dict)\n",
    "    print('*', end='')\n",
    "features = np.vstack(features).squeeze()"
   ]
  },
  {
   "cell_type": "code",
   "execution_count": null,
   "metadata": {
    "colab": {},
    "colab_type": "code",
    "id": "mCR2Pk9QvLzH"
   },
   "outputs": [],
   "source": [
    "len(feature_collection)"
   ]
  },
  {
   "cell_type": "markdown",
   "metadata": {
    "colab_type": "text",
    "id": "1ZYRDVK6yEYG"
   },
   "source": [
    "### Save the data"
   ]
  },
  {
   "cell_type": "code",
   "execution_count": null,
   "metadata": {
    "colab": {},
    "colab_type": "code",
    "id": "vmOKElPimOFy"
   },
   "outputs": [],
   "source": [
    "feature_file = '/create/a/path/to/save/file/BiT-m-r152x4_feature.npz'"
   ]
  },
  {
   "cell_type": "code",
   "execution_count": null,
   "metadata": {
    "colab": {},
    "colab_type": "code",
    "id": "B6V8BINNmSPN"
   },
   "outputs": [],
   "source": [
    "np.savez(feature_file, **feature_collection)"
   ]
  },
  {
   "cell_type": "code",
   "execution_count": null,
   "metadata": {
    "colab": {},
    "colab_type": "code",
    "id": "P4D4jie1Z2td"
   },
   "outputs": [],
   "source": [
    "features.shape # Features with shape [batch_size, 8192]."
   ]
  }
 ],
 "metadata": {
  "accelerator": "GPU",
  "colab": {
   "collapsed_sections": [],
   "machine_shape": "hm",
   "name": "Projekt3.7 - Feature_Extraktion_BiT.ipynb",
   "provenance": [
    {
     "file_id": "1Ns51-WjQQZXrpUfo71dBPBQnw0cETNch",
     "timestamp": 1585142022247
    },
    {
     "file_id": "1ai_M5XzM7Md8rQ4xbZ1PB23dHeFMkFYK",
     "timestamp": 1584802059118
    }
   ],
   "toc_visible": true
  },
  "kernelspec": {
   "display_name": "Python 3",
   "language": "python",
   "name": "python3"
  },
  "language_info": {
   "codemirror_mode": {
    "name": "ipython",
    "version": 3
   },
   "file_extension": ".py",
   "mimetype": "text/x-python",
   "name": "python",
   "nbconvert_exporter": "python",
   "pygments_lexer": "ipython3",
   "version": "3.7.6"
  }
 },
 "nbformat": 4,
 "nbformat_minor": 4
}
