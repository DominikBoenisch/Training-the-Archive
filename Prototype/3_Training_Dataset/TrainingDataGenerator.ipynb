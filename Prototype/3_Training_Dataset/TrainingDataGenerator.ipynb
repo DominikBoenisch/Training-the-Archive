{
 "cells": [
  {
   "cell_type": "code",
   "execution_count": null,
   "metadata": {
    "colab": {},
    "colab_type": "code",
    "id": "6uOtagQChWXC"
   },
   "outputs": [],
   "source": [
    "import glob\n",
    "from random import choice\n",
    "from IPython import display\n",
    "from matplotlib import pyplot as plt"
   ]
  },
  {
   "cell_type": "code",
   "execution_count": null,
   "metadata": {
    "colab": {
     "base_uri": "https://localhost:8080/",
     "height": 34
    },
    "colab_type": "code",
    "executionInfo": {
     "elapsed": 62701,
     "status": "ok",
     "timestamp": 1589444847816,
     "user": {
      "displayName": "Dominik Bönisch",
      "photoUrl": "https://lh3.googleusercontent.com/a-/AOh14GhKOWR8THR9qdTMvlOUgs_jDS8c90Gn7wTwJaxV=s64",
      "userId": "01670297113181042790"
     },
     "user_tz": -120
    },
    "id": "RpmduDB6h0Zq",
    "outputId": "12987508-174f-445f-be03-ad4cd382a94f"
   },
   "outputs": [],
   "source": [
    "scraped_images_folder ='/set/the/path/to/your/scraped/images/'\n",
    "scraped_files = glob.glob(scraped_images_folder+'/*.jpg')\n",
    "n_files = len(scraped_files) #if you are working with colab, you might repeat this step several times until the whole dataset is loaded\n",
    "print(n_files)"
   ]
  },
  {
   "cell_type": "code",
   "execution_count": null,
   "metadata": {
    "colab": {},
    "colab_type": "code",
    "id": "WijDRC57iDbG"
   },
   "outputs": [],
   "source": [
    "result_file = '/path/to/the/file/trainingdata.txt'"
   ]
  },
  {
   "cell_type": "code",
   "execution_count": null,
   "metadata": {
    "colab": {
     "base_uri": "https://localhost:8080/",
     "height": 609
    },
    "colab_type": "code",
    "executionInfo": {
     "elapsed": 7672,
     "status": "error",
     "timestamp": 1585148700267,
     "user": {
      "displayName": "Dominik Bönisch",
      "photoUrl": "https://lh3.googleusercontent.com/a-/AOh14GhKOWR8THR9qdTMvlOUgs_jDS8c90Gn7wTwJaxV=s64",
      "userId": "01670297113181042790"
     },
     "user_tz": -60
    },
    "id": "5aP5FcBUmjF1",
    "outputId": "a975d3ee-8295-4c71-d997-f37c6eaac2b6"
   },
   "outputs": [],
   "source": [
    "while True:\n",
    "    # select 9 images randomly\n",
    "    images = [choice(scraped_files) for i in range(9)]\n",
    "    fig = plt.figure(figsize = (10,10))\n",
    "    for i,imfile in enumerate(images):\n",
    "        \n",
    "        plt.subplot(3,3,i+1)\n",
    "        img = plt.imread(imfile)\n",
    "        plt.imshow(img)\n",
    "        plt.axis('off')\n",
    "        plt.title(str(i), color='w')\n",
    "    display.display(fig)\n",
    "    print('enter anchor and positive, separated by comma. (x to quit)')\n",
    "    entry = input('')\n",
    "    if 'x' in entry:\n",
    "        display.clear_output()\n",
    "        break\n",
    "    try:\n",
    "        anchor,positive = [int(n) for n in entry.split(',')]\n",
    "        assert anchor in range(9)\n",
    "        assert positive in range(9)\n",
    "    except:\n",
    "        print('invalid input')\n",
    "        display.clear_output()\n",
    "        continue\n",
    "    others = list(set(range(9)).difference(set([anchor,positive])))\n",
    "    output = [anchor,positive]+others\n",
    "    output_files = [images[o].split('/')[-1] for o in output]\n",
    "    output_string = ','.join(output_files)\n",
    "    \n",
    "    display.clear_output()\n",
    "    with open(result_file, 'a') as opened_file:\n",
    "        opened_file.write(output_string + '\\n')"
   ]
  }
 ],
 "metadata": {
  "colab": {
   "collapsed_sections": [],
   "name": "Projekt5 - BildSelektor.ipynb",
   "provenance": [
    {
     "file_id": "1wjLNXRYEkG-0Fs0z6Lv_H1ZIpOEukUrs",
     "timestamp": 1584808108633
    }
   ]
  },
  "kernelspec": {
   "display_name": "Python 3",
   "language": "python",
   "name": "python3"
  },
  "language_info": {
   "codemirror_mode": {
    "name": "ipython",
    "version": 3
   },
   "file_extension": ".py",
   "mimetype": "text/x-python",
   "name": "python",
   "nbconvert_exporter": "python",
   "pygments_lexer": "ipython3",
   "version": "3.7.6"
  }
 },
 "nbformat": 4,
 "nbformat_minor": 4
}
