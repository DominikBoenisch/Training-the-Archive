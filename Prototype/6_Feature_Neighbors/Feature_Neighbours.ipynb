{
 "cells": [
  {
   "cell_type": "code",
   "execution_count": null,
   "metadata": {
    "colab": {},
    "colab_type": "code",
    "id": "LbFztHqckMgP"
   },
   "outputs": [],
   "source": [
    "import os\n",
    "import json\n",
    "import numpy as np\n",
    "import matplotlib.pyplot as plt\n",
    "from scipy.spatial.distance import cdist\n",
    "from random import choice\n",
    "import math\n",
    "\n",
    "from tensorflow.keras.preprocessing import image\n",
    "\n",
    "from sklearn.decomposition import PCA\n",
    "from sklearn.manifold import TSNE\n",
    "\n",
    "from matplotlib.offsetbox import OffsetImage,AnnotationBbox\n"
   ]
  },
  {
   "cell_type": "code",
   "execution_count": null,
   "metadata": {},
   "outputs": [],
   "source": [
    "# If you're working with Colab mount your drive or skip this step\n",
    "from google.colab import drive\n",
    "drive.mount('/content/drive')"
   ]
  },
  {
   "cell_type": "code",
   "execution_count": null,
   "metadata": {
    "colab": {},
    "colab_type": "code",
    "id": "5JgvwDbkketK"
   },
   "outputs": [],
   "source": [
    "scraped_images_folder = '/set/the/path/to/your/scraped/images/'\n",
    "feature_file = '/path/to/feature-file.npz'\n"
   ]
  },
  {
   "cell_type": "code",
   "execution_count": null,
   "metadata": {
    "colab": {},
    "colab_type": "code",
    "id": "YUPIXKXeqQZe"
   },
   "outputs": [],
   "source": [
    "default_metric = 'cosine'"
   ]
  },
  {
   "cell_type": "code",
   "execution_count": null,
   "metadata": {},
   "outputs": [],
   "source": [
    "# there are a bunch of available metrics:\n",
    "# ‘braycurtis’, ‘canberra’, ‘chebyshev’, ‘cityblock’, ‘correlation’, ‘cosine’, ‘dice’, ‘euclidean’, ‘hamming’, ‘jaccard’, \n",
    "# ‘jensenshannon’, ‘kulsinski’, ‘mahalanobis’, ‘matching’, ‘minkowski’, ‘rogerstanimoto’, ‘russellrao’, ‘seuclidean’, ‘sokalmichener’,\n",
    "# ‘sokalsneath’, ‘sqeuclidean’, ‘wminkowski’, ‘yule’"
   ]
  },
  {
   "cell_type": "markdown",
   "metadata": {
    "colab_type": "text",
    "id": "qK5M2zDnHH6h"
   },
   "source": [
    "### Load Features"
   ]
  },
  {
   "cell_type": "code",
   "execution_count": null,
   "metadata": {
    "colab": {},
    "colab_type": "code",
    "id": "FxP-iNWUDg-G"
   },
   "outputs": [],
   "source": [
    "feature_dict = np.load(feature_file)\n",
    "feature_dict = dict(feature_dict) # load dictionary into ram for speed"
   ]
  },
  {
   "cell_type": "code",
   "execution_count": null,
   "metadata": {
    "colab": {},
    "colab_type": "code",
    "id": "PW-pPPZf_Cpq"
   },
   "outputs": [],
   "source": [
    "legalize_it = True # the filter is switched on (True) or off (False)\n",
    "\n",
    "if legalize_it:\n",
    "    copyright_file = '/set/the/path/to/the/file/is_public.json'\n",
    "    with open(copyright_file) as json_file:\n",
    "        is_public = json.load(json_file)\n",
    "    new_feature_dict = {}\n",
    "    for image_name in feature_dict.keys():\n",
    "        if is_public[image_name]:\n",
    "            new_feature_dict[image_name] = feature_dict[image_name]\n",
    "    feature_dict = new_feature_dict"
   ]
  },
  {
   "cell_type": "code",
   "execution_count": null,
   "metadata": {
    "colab": {},
    "colab_type": "code",
    "id": "OnK9RYx4_Es1"
   },
   "outputs": [],
   "source": [
    "image_names = np.array(list(feature_dict.keys()))\n",
    "features = np.array(list(feature_dict.values()))"
   ]
  },
  {
   "cell_type": "code",
   "execution_count": null,
   "metadata": {
    "colab": {},
    "colab_type": "code",
    "id": "2lwt1QxTlKvf"
   },
   "outputs": [],
   "source": [
    "def compute_distances(feature,neighbours,metric = default_metric):\n",
    "    \"\"\" computes the distances between 'feature' and 'neighbours'. \"\"\"\n",
    "    if len(feature.shape) == 1:\n",
    "        feature = feature[np.newaxis,:]\n",
    "    if len(neighbours.shape) == 1:\n",
    "        neighbours = neighbours[np.newaxis,:]\n",
    "    \n",
    "    distances = cdist(feature,neighbours,metric = metric)[0]\n",
    "    return distances"
   ]
  },
  {
   "cell_type": "code",
   "execution_count": null,
   "metadata": {
    "colab": {},
    "colab_type": "code",
    "id": "hcL_QVmxlgHo"
   },
   "outputs": [],
   "source": [
    "def find_neighbours(image_name,image_group,N,mode='nearest',metric =default_metric,\n",
    "                    feature_dict = feature_dict):\n",
    "    \"\"\" finds N neighbours for in image_name in image_group.\n",
    "        \n",
    "        image_name:   filename of reference image\n",
    "        image_group:  list of images to search neighbours in\n",
    "        N:            number of neigbours to return\n",
    "        mode:         can be 'nearest' of 'farthest'\n",
    "        metrix:       distance metric to use\n",
    "        feature_dict: mapping form filenames to features\n",
    "        \"\"\"\n",
    "    # make sure mode is correct:\n",
    "    assert mode in ['nearest','farthest'], \"mode must one of 'nearest' or 'farthest' \"\n",
    "    reference_feature = feature_dict[image_name]\n",
    "    # convert group to array to ensure ordering\n",
    "    group_array = np.array(image_group)\n",
    "    group_features = np.array([feature_dict[i] for i in group_array if i != image_name])\n",
    "    distances = compute_distances(reference_feature,group_features,metric)\n",
    "    order = np.argsort(distances)\n",
    "    if mode == 'nearest':\n",
    "        neighbour_inds = order[:N]\n",
    "    elif mode == 'farthest':\n",
    "        neighbour_inds = order[-N:]\n",
    "    neighbours = [group_array[ni] for ni in neighbour_inds]\n",
    "    return neighbours "
   ]
  },
  {
   "cell_type": "markdown",
   "metadata": {
    "colab_type": "text",
    "id": "d8PhsVFPwMMU"
   },
   "source": [
    "### Plot Feature-Neighbours"
   ]
  },
  {
   "cell_type": "code",
   "execution_count": null,
   "metadata": {},
   "outputs": [],
   "source": [
    "# random image\n",
    "random_image = choice(image_names)\n",
    "im_name = os.path.join(scraped_images_folder, random_image.strip(\"'\"))\n",
    "im = image.load_img(im_name, target_size=(224,224))\n",
    "plt.imshow(im)\n",
    "plt.axis(False)\n",
    "plt.title(random_image)"
   ]
  },
  {
   "cell_type": "code",
   "execution_count": null,
   "metadata": {
    "colab": {
     "base_uri": "https://localhost:8080/",
     "height": 119
    },
    "colab_type": "code",
    "id": "C_OjUZsznG7I",
    "outputId": "5999ef57-f73b-492f-f7ba-bfb259bf223c"
   },
   "outputs": [],
   "source": [
    "reference_image = 'imagename.jpg'\n",
    "group = image_names\n",
    "N = 10\n",
    "mode = 'nearest'  # 'nearest' or 'farthest'\n",
    "neighbours = find_neighbours(reference_image,group,N=N,mode = mode)\n",
    "\n",
    "images = [reference_image] + neighbours\n",
    "plt.figure(figsize=(30, 25))\n",
    "for i,image_name in enumerate(images):\n",
    "    plt.subplot(1,N+1,i+1)\n",
    "    im_name = os.path.join(scraped_images_folder, image_name.strip(\"'\"))\n",
    "    im = image.load_img(im_name, target_size=(224,224))\n",
    "    plt.imshow(im)\n",
    "    plt.axis(False)\n",
    "    plt.title(image_name)"
   ]
  },
  {
   "cell_type": "markdown",
   "metadata": {
    "colab_type": "text",
    "id": "g4BscI7vyn-h"
   },
   "source": [
    "## Walkthrough the latent space\n",
    "From a start to an end image a path is created in the feature room. At *N* intermediate steps, an adjacent image is displayed in the feature space. To create some variance, the parameter *N_neighbours* can be used to control how strictly the closest neighbour is selected (*N_neighbours = 1*: the closest one is taken, *N_neighbours > 1*: it is randomly selected from the *N* closest ones). Since often the same image was selected as neighbor at consecutive points, the parameter *unique* was added. If this parameter is set to *True*, the function is forced to select the next image that has not yet been selected."
   ]
  },
  {
   "cell_type": "code",
   "execution_count": null,
   "metadata": {
    "colab": {},
    "colab_type": "code",
    "id": "U4Tg--93nL3F"
   },
   "outputs": [],
   "source": [
    "def find_neighbours_on_path(start_image,end_image,N,N_neighbours=1,\n",
    "                            metric = default_metric,unique = True):\n",
    "    start_feature = feature_dict[start_image]\n",
    "    end_feature = feature_dict[end_image]\n",
    "    path_images = []\n",
    "    path_inds = [np.where(image_names==start_image)[0],np.where(image_names==end_image)[0]]\n",
    "    for i in range(1,N+1):\n",
    "        w2 = i/(N+1)\n",
    "        w1 =  1 -  w2\n",
    "        feature = start_feature * w1 + end_feature * w2\n",
    "        distances =  compute_distances(feature,features,metric)\n",
    "        order = np.argsort(distances)\n",
    "        if unique:\n",
    "            order = [o for o in order if o not in path_inds]\n",
    "        candidates = order[:N_neighbours]\n",
    "        chosen = choice(candidates)\n",
    "        path_inds.append(chosen)\n",
    "        path_images.append(image_names[chosen])\n",
    "    return [start_image] + path_images + [end_image]"
   ]
  },
  {
   "cell_type": "code",
   "execution_count": null,
   "metadata": {
    "colab": {
     "base_uri": "https://localhost:8080/",
     "height": 35
    },
    "colab_type": "code",
    "id": "gksGhOCivY6h",
    "outputId": "c6c3f55f-ac95-4ed7-8e74-8804f35147c0"
   },
   "outputs": [],
   "source": [
    "# random image\n",
    "random_image = choice(image_names)\n",
    "im_name = os.path.join(scraped_images_folder, random_image.strip(\"'\"))\n",
    "im = image.load_img(im_name, target_size=(224,224))\n",
    "plt.imshow(im)\n",
    "plt.axis(False)\n",
    "plt.title(random_image)"
   ]
  },
  {
   "cell_type": "markdown",
   "metadata": {
    "colab_type": "text",
    "id": "rzYAK5WqCDyd"
   },
   "source": [
    "### Linear representation\n"
   ]
  },
  {
   "cell_type": "code",
   "execution_count": null,
   "metadata": {
    "colab": {},
    "colab_type": "code",
    "id": "ZQ6m3AHFrHr7"
   },
   "outputs": [],
   "source": [
    "start_image = 'imagename.jpg' # random = choice(image_names)\n",
    "end_image = 'imagename.jpg'\n",
    "N = 9 # intermediate steps\n",
    "N_neighbours = 1\n",
    "metric = 'cosine' # choose metric\n",
    "unique = True # function is forced to select the next image that has not yet been selected\n",
    "\n",
    "image_path = find_neighbours_on_path(start_image,end_image,N,N_neighbours,metric,unique)"
   ]
  },
  {
   "cell_type": "code",
   "execution_count": null,
   "metadata": {
    "colab": {
     "base_uri": "https://localhost:8080/",
     "height": 101
    },
    "colab_type": "code",
    "id": "SqKtR4VuvTXy",
    "outputId": "0ba3eec4-bec7-4244-e97b-25d333deacdb"
   },
   "outputs": [],
   "source": [
    "plt.figure(figsize=(30, 25))\n",
    "for i,image_name in enumerate(image_path):\n",
    "    plt.subplot(1,N+2,i+1)\n",
    "    im_name = os.path.join(scraped_images_folder, image_name.strip(\"'\"))\n",
    "    im = image.load_img(im_name, target_size=(224,224))\n",
    "    plt.imshow(im)\n",
    "    plt.axis(False)\n",
    "    plt.title(image_name)"
   ]
  },
  {
   "cell_type": "markdown",
   "metadata": {
    "colab_type": "text",
    "id": "W_sMlOOFCnA5"
   },
   "source": [
    "### Representation as scatterplot in 2D projection of the latent space"
   ]
  },
  {
   "cell_type": "code",
   "execution_count": null,
   "metadata": {
    "colab": {},
    "colab_type": "code",
    "id": "0JoD29-lC0Dl"
   },
   "outputs": [],
   "source": [
    "start_image = 'imagename.jpg' # random = choice(image_names)\n",
    "end_image = 'imagename.jpg'\n",
    "N = 100 # intermediate steps\n",
    "N_neighbours = 5\n",
    "metric = 'cityblock' # choose metric\n",
    "unique = True # function is forced to select the next image that has not yet been selected\n",
    "\n",
    "image_path = find_neighbours_on_path(start_image,end_image,N,N_neighbours,metric,unique)"
   ]
  },
  {
   "cell_type": "code",
   "execution_count": null,
   "metadata": {
    "colab": {
     "base_uri": "https://localhost:8080/",
     "height": 1000
    },
    "colab_type": "code",
    "id": "1HeWWLYtnEII",
    "outputId": "aa476791-f486-4b79-a249-3bd8d2871f1a"
   },
   "outputs": [],
   "source": [
    "randseed = 0 # set the initialization of the random number generator\n",
    "np.random.seed(randseed)\n",
    "projection = 'tsne' # 'pca' or 'tsne'\n",
    "zoom = 0.5  # size of the images\n",
    "\n",
    "path_features = np.array([feature_dict[img] for img in image_path])\n",
    "\n",
    "if projection == 'pca':\n",
    "    transformer = PCA(n_components = 2)\n",
    "elif projection == 'tsne':\n",
    "    transformer = TSNE(n_components = 2)\n",
    "transformed_features = transformer.fit_transform(path_features)\n",
    "\n",
    "plt.figure(figsize = (30,30))\n",
    "ax = plt.subplot(111)\n",
    "for pos,image_name in zip(transformed_features,image_path):\n",
    "    im_name = os.path.join(scraped_images_folder, image_name.strip(\"'\"))\n",
    "    img = image.load_img(im_name, target_size=(224,224))\n",
    "    im = OffsetImage(img, zoom=zoom)\n",
    "    ab = AnnotationBbox(im, pos, xycoords='data', frameon=False)\n",
    "    ax.add_artist(ab)\n",
    "    ax.update_datalim(np.column_stack(pos))\n",
    "    ax.autoscale()\n",
    "plt.axis(False)"
   ]
  }
 ],
 "metadata": {
  "colab": {
   "collapsed_sections": [],
   "name": "Projekt7 - Feature_Neighbours.ipynb",
   "provenance": [],
   "toc_visible": true
  },
  "kernelspec": {
   "display_name": "Python 3",
   "language": "python",
   "name": "python3"
  },
  "language_info": {
   "codemirror_mode": {
    "name": "ipython",
    "version": 3
   },
   "file_extension": ".py",
   "mimetype": "text/x-python",
   "name": "python",
   "nbconvert_exporter": "python",
   "pygments_lexer": "ipython3",
   "version": "3.7.6"
  }
 },
 "nbformat": 4,
 "nbformat_minor": 4
}
