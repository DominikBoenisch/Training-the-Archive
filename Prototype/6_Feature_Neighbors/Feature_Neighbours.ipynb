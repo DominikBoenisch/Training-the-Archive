{
 "cells": [
  {
   "cell_type": "code",
   "execution_count": null,
   "metadata": {
    "colab": {},
    "colab_type": "code",
    "id": "LbFztHqckMgP"
   },
   "outputs": [],
   "source": [
    "import os\n",
    "import json\n",
    "import numpy as np\n",
    "import matplotlib.pyplot as plt\n",
    "from scipy.spatial.distance import cdist\n",
    "from random import choice\n",
    "import math\n",
    "\n",
    "from tensorflow.keras.preprocessing import image\n",
    "\n",
    "from sklearn.decomposition import PCA\n",
    "from sklearn.manifold import TSNE\n",
    "\n",
    "from matplotlib.offsetbox import OffsetImage,AnnotationBbox\n",
    "from random import shuffle"
   ]
  },
  {
   "cell_type": "code",
   "execution_count": null,
   "metadata": {},
   "outputs": [],
   "source": [
    "# If you're working with Colab mount your drive or skip this step\n",
    "from google.colab import drive\n",
    "drive.mount('/content/drive')"
   ]
  },
  {
   "cell_type": "code",
   "execution_count": null,
   "metadata": {
    "colab": {},
    "colab_type": "code",
    "id": "5JgvwDbkketK"
   },
   "outputs": [],
   "source": [
    "scraped_images_folder = '/set/the/path/to/your/scraped/images/'\n",
    "                 \n",
    "feature_files = [('/path/to/file/BiT-m-r152x4_feature.npz', 0.9),\n",
    "                 ('/path/to/another/feature_file.npz', None),\n",
    "                 ('/path/to/another/feature_file.npz', 10)\n",
    "                 ]\n",
    "\n",
    "# Here you must now specify a list of tuples with the form (feature_file, components).\n",
    "# Components is the parameter for the PCA or is set to None.\n",
    "# You can stack different feature-files and combine them.\n",
    "# PCA: Reduce the number of dimensions to n_components  \n",
    "# If n_components is between 0-1 it controlls the fraction of explained variance\n",
    "# If it is integer, it controlls the number of components directly"
   ]
  },
  {
   "cell_type": "code",
   "execution_count": null,
   "metadata": {
    "colab": {},
    "colab_type": "code",
    "id": "YUPIXKXeqQZe"
   },
   "outputs": [],
   "source": [
    "default_metric = 'cosine'"
   ]
  },
  {
   "cell_type": "code",
   "execution_count": null,
   "metadata": {},
   "outputs": [],
   "source": [
    "# there are a bunch of available metrics:\n",
    "# ‘braycurtis’, ‘canberra’, ‘chebyshev’, ‘cityblock’, ‘correlation’, ‘cosine’, ‘dice’, ‘euclidean’, ‘hamming’, ‘jaccard’, \n",
    "# ‘jensenshannon’, ‘kulsinski’, ‘mahalanobis’, ‘matching’, ‘minkowski’, ‘rogerstanimoto’, ‘russellrao’, ‘seuclidean’, ‘sokalmichener’,\n",
    "# ‘sokalsneath’, ‘sqeuclidean’, ‘wminkowski’, ‘yule’"
   ]
  },
  {
   "cell_type": "markdown",
   "metadata": {
    "colab_type": "text",
    "id": "qK5M2zDnHH6h"
   },
   "source": [
    "### Load Features"
   ]
  },
  {
   "cell_type": "code",
   "execution_count": null,
   "metadata": {
    "colab": {},
    "colab_type": "code",
    "id": "FxP-iNWUDg-G"
   },
   "outputs": [],
   "source": [
    "#collect all the feature files\n",
    "feature_dicts = []\n",
    "image_name_lists = []\n",
    "for feature_file,components in feature_files:\n",
    "    feature_dict = dict(np.load(feature_file))\n",
    "    image_names = np.array(list(feature_dict.keys()))\n",
    "    features = np.array(list(feature_dict.values()))\n",
    "    # do local pca on features\n",
    "    if components is not None:\n",
    "        pca = PCA(n_components = components,whiten = True)\n",
    "        features = pca.fit_transform(features)\n",
    "        feature_dict = dict(zip(image_names,features))\n",
    "    feature_dicts.append(feature_dict) \n",
    "    keys =feature_dict.keys()\n",
    "    image_name_lists.append(keys)\n",
    "    print(f'using {features.shape[1]} features from {feature_file}')\n",
    "\n",
    "# make sure we use only image names occuring in all files\n",
    "image_names  = set(image_name_lists[0])\n",
    "for image_name_list in image_name_lists[1:]:\n",
    "    image_names = image_names.intersection(set(image_name_list))\n",
    "image_names = list(image_names)\n",
    "\n",
    "features = []\n",
    "for image_name in image_names:\n",
    "    feature = []\n",
    "    for feature_dict in feature_dicts:\n",
    "        feature.append(feature_dict[image_name])\n",
    "    features.append(np.concatenate(feature))\n",
    "\n",
    "feature_dict = dict(zip(image_names,features))"
   ]
  },
  {
   "cell_type": "code",
   "execution_count": null,
   "metadata": {
    "colab": {},
    "colab_type": "code",
    "id": "PW-pPPZf_Cpq"
   },
   "outputs": [],
   "source": [
    "legalize_it = True # the filter is switched on (True) or off (False)\n",
    "\n",
    "if legalize_it:\n",
    "    copyright_file = '/set/the/path/to/the/file/is_public.json'\n",
    "    with open(copyright_file) as json_file:\n",
    "        is_public = json.load(json_file)\n",
    "    new_feature_dict = {}\n",
    "    for image_name in feature_dict.keys():\n",
    "        if is_public[image_name]:\n",
    "            new_feature_dict[image_name] = feature_dict[image_name]\n",
    "    feature_dict = new_feature_dict"
   ]
  },
  {
   "cell_type": "code",
   "execution_count": null,
   "metadata": {
    "colab": {},
    "colab_type": "code",
    "id": "OnK9RYx4_Es1"
   },
   "outputs": [],
   "source": [
    "image_names = np.array(list(feature_dict.keys()))\n",
    "features = np.array(list(feature_dict.values()))"
   ]
  },
  {
   "cell_type": "code",
   "execution_count": null,
   "metadata": {
    "colab": {},
    "colab_type": "code",
    "id": "2lwt1QxTlKvf"
   },
   "outputs": [],
   "source": [
    "def compute_distances(feature,neighbours,metric = default_metric):\n",
    "    \"\"\" computes the distances between 'feature' and 'neighbours'. \"\"\"\n",
    "    if len(feature.shape) == 1:\n",
    "        feature = feature[np.newaxis,:]\n",
    "    if len(neighbours.shape) == 1:\n",
    "        neighbours = neighbours[np.newaxis,:]\n",
    "    \n",
    "    distances = cdist(feature,neighbours,metric = metric)[0]\n",
    "    return distances"
   ]
  },
  {
   "cell_type": "code",
   "execution_count": null,
   "metadata": {
    "colab": {},
    "colab_type": "code",
    "id": "hcL_QVmxlgHo"
   },
   "outputs": [],
   "source": [
    "def find_neighbours(image_name,image_group,N,mode='nearest',metric =default_metric,\n",
    "                    feature_dict = feature_dict):\n",
    "    \"\"\" finds N neighbours for in image_name in image_group.\n",
    "        \n",
    "        image_name:   filename of reference image\n",
    "        image_group:  list of images to search neighbours in\n",
    "        N:            number of neigbours to return\n",
    "        mode:         can be 'nearest' of 'farthest'\n",
    "        metrix:       distance metric to use\n",
    "        feature_dict: mapping form filenames to features\n",
    "        \"\"\"\n",
    "    # make sure mode is correct:\n",
    "    assert mode in ['nearest','farthest'], \"mode must one of 'nearest' or 'farthest' \"\n",
    "    reference_feature = feature_dict[image_name]\n",
    "    # convert group to array to ensure ordering\n",
    "    group_array = np.array(image_group)\n",
    "    group_features = np.array([feature_dict[i] for i in group_array if i != image_name])\n",
    "    distances = compute_distances(reference_feature,group_features,metric)\n",
    "    order = np.argsort(distances)\n",
    "    if mode == 'nearest':\n",
    "        neighbour_inds = order[:N]\n",
    "    elif mode == 'farthest':\n",
    "        neighbour_inds = order[-N:]\n",
    "    neighbours = [group_array[ni] for ni in neighbour_inds]\n",
    "    return neighbours "
   ]
  },
  {
   "cell_type": "markdown",
   "metadata": {
    "colab_type": "text",
    "id": "d8PhsVFPwMMU"
   },
   "source": [
    "### Plot Feature-Neighbours"
   ]
  },
  {
   "cell_type": "code",
   "execution_count": null,
   "metadata": {},
   "outputs": [],
   "source": [
    "# random image\n",
    "random_image = choice(image_names)\n",
    "im_name = os.path.join(scraped_images_folder, random_image.strip(\"'\"))\n",
    "im = image.load_img(im_name, target_size=(224,224))\n",
    "plt.imshow(im)\n",
    "plt.axis(False)\n",
    "plt.title(random_image)"
   ]
  },
  {
   "cell_type": "code",
   "execution_count": null,
   "metadata": {
    "colab": {
     "base_uri": "https://localhost:8080/",
     "height": 119
    },
    "colab_type": "code",
    "id": "C_OjUZsznG7I",
    "outputId": "5999ef57-f73b-492f-f7ba-bfb259bf223c"
   },
   "outputs": [],
   "source": [
    "reference_image = 'imagename.jpg'\n",
    "group = image_names\n",
    "N = 10\n",
    "mode = 'nearest'  # 'nearest' or 'farthest'\n",
    "neighbours = find_neighbours(reference_image,group,N=N,mode = mode)\n",
    "\n",
    "images = [reference_image] + neighbours\n",
    "plt.figure(figsize=(30, 25))\n",
    "for i,image_name in enumerate(images):\n",
    "    plt.subplot(1,N+1,i+1)\n",
    "    im_name = os.path.join(scraped_images_folder, image_name.strip(\"'\"))\n",
    "    im = image.load_img(im_name, target_size=(224,224))\n",
    "    plt.imshow(im)\n",
    "    plt.axis(False)\n",
    "    plt.title(image_name)"
   ]
  },
  {
   "cell_type": "markdown",
   "metadata": {
    "colab_type": "text",
    "id": "g4BscI7vyn-h"
   },
   "source": [
    "## Walkthrough the latent space\n",
    "From a start to an end image a path is created in the feature room. At *N* intermediate steps, an adjacent image is displayed in the feature space. To create some variance, the parameter *N_neighbours* can be used to control how strictly the closest neighbour is selected (*N_neighbours = 1*: the closest one is taken, *N_neighbours > 1*: it is randomly selected from the *N* closest ones). Since often the same image was selected as neighbor at consecutive points, the parameter *unique* was added. If this parameter is set to *True*, the function is forced to select the next image that has not yet been selected."
   ]
  },
  {
   "cell_type": "code",
   "execution_count": null,
   "metadata": {
    "colab": {},
    "colab_type": "code",
    "id": "U4Tg--93nL3F"
   },
   "outputs": [],
   "source": [
    "def find_neighbours_on_path(start_image,end_image,N,N_neighbours=1,\n",
    "                            metric = default_metric,unique = True):\n",
    "    start_feature = feature_dict[start_image]\n",
    "    end_feature = feature_dict[end_image]\n",
    "    path_images = []\n",
    "    path_inds = [np.where(image_names==start_image)[0],np.where(image_names==end_image)[0]]\n",
    "    for i in range(1,N+1):\n",
    "        w2 = i/(N+1)\n",
    "        w1 =  1 -  w2\n",
    "        feature = start_feature * w1 + end_feature * w2\n",
    "        distances =  compute_distances(feature,features,metric)\n",
    "        order = np.argsort(distances)\n",
    "        if unique:\n",
    "            order = [o for o in order if o not in path_inds]\n",
    "        candidates = order[:N_neighbours]\n",
    "        chosen = choice(candidates)\n",
    "        path_inds.append(chosen)\n",
    "        path_images.append(image_names[chosen])\n",
    "    return [start_image] + path_images + [end_image]"
   ]
  },
  {
   "cell_type": "code",
   "execution_count": null,
   "metadata": {
    "colab": {
     "base_uri": "https://localhost:8080/",
     "height": 35
    },
    "colab_type": "code",
    "id": "gksGhOCivY6h",
    "outputId": "c6c3f55f-ac95-4ed7-8e74-8804f35147c0"
   },
   "outputs": [],
   "source": [
    "# random image\n",
    "random_image = choice(image_names)\n",
    "im_name = os.path.join(scraped_images_folder, random_image.strip(\"'\"))\n",
    "im = image.load_img(im_name, target_size=(224,224))\n",
    "plt.imshow(im)\n",
    "plt.axis(False)\n",
    "plt.title(random_image)"
   ]
  },
  {
   "cell_type": "markdown",
   "metadata": {
    "colab_type": "text",
    "id": "rzYAK5WqCDyd"
   },
   "source": [
    "### Linear representation\n"
   ]
  },
  {
   "cell_type": "code",
   "execution_count": null,
   "metadata": {
    "colab": {},
    "colab_type": "code",
    "id": "ZQ6m3AHFrHr7"
   },
   "outputs": [],
   "source": [
    "start_image = 'imagename.jpg' # random = choice(image_names)\n",
    "end_image = 'imagename.jpg'\n",
    "N = 9 # intermediate steps\n",
    "N_neighbours = 1\n",
    "metric = 'cosine' # choose metric\n",
    "unique = True # function is forced to select the next image that has not yet been selected\n",
    "\n",
    "image_path = find_neighbours_on_path(start_image,end_image,N,N_neighbours,metric,unique)"
   ]
  },
  {
   "cell_type": "code",
   "execution_count": null,
   "metadata": {
    "colab": {
     "base_uri": "https://localhost:8080/",
     "height": 101
    },
    "colab_type": "code",
    "id": "SqKtR4VuvTXy",
    "outputId": "0ba3eec4-bec7-4244-e97b-25d333deacdb"
   },
   "outputs": [],
   "source": [
    "plt.figure(figsize=(30, 25))\n",
    "for i,image_name in enumerate(image_path):\n",
    "    plt.subplot(1,N+2,i+1)\n",
    "    im_name = os.path.join(scraped_images_folder, image_name.strip(\"'\"))\n",
    "    im = image.load_img(im_name, target_size=(224,224))\n",
    "    plt.imshow(im)\n",
    "    plt.axis(False)\n",
    "    plt.title(image_name)"
   ]
  },
  {
   "cell_type": "markdown",
   "metadata": {
    "colab_type": "text",
    "id": "W_sMlOOFCnA5"
   },
   "source": [
    "### Representation as scatterplot in 2D projection of the latent space"
   ]
  },
  {
   "cell_type": "code",
   "execution_count": null,
   "metadata": {
    "colab": {},
    "colab_type": "code",
    "id": "0JoD29-lC0Dl"
   },
   "outputs": [],
   "source": [
    "start_image = 'imagename.jpg' # random = choice(image_names)\n",
    "end_image = 'imagename.jpg'\n",
    "N = 100 # intermediate steps\n",
    "N_neighbours = 5\n",
    "metric = 'cityblock' # choose metric\n",
    "unique = True # function is forced to select the next image that has not yet been selected\n",
    "\n",
    "image_path = find_neighbours_on_path(start_image,end_image,N,N_neighbours,metric,unique)"
   ]
  },
  {
   "cell_type": "code",
   "execution_count": null,
   "metadata": {
    "colab": {
     "base_uri": "https://localhost:8080/",
     "height": 1000
    },
    "colab_type": "code",
    "id": "1HeWWLYtnEII",
    "outputId": "aa476791-f486-4b79-a249-3bd8d2871f1a"
   },
   "outputs": [],
   "source": [
    "randseed = 0 # set the initialization of the random number generator\n",
    "np.random.seed(randseed)\n",
    "projection = 'tsne' # 'pca' or 'tsne'\n",
    "zoom = 0.5  # size of the images\n",
    "\n",
    "path_features = np.array([feature_dict[img] for img in image_path])\n",
    "\n",
    "if projection == 'pca':\n",
    "    transformer = PCA(n_components = 2)\n",
    "elif projection == 'tsne':\n",
    "    transformer = TSNE(n_components = 2)\n",
    "transformed_features = transformer.fit_transform(path_features)\n",
    "\n",
    "plt.figure(figsize = (30,30))\n",
    "ax = plt.subplot(111)\n",
    "for pos,image_name in zip(transformed_features,image_path):\n",
    "    im_name = os.path.join(scraped_images_folder, image_name.strip(\"'\"))\n",
    "    img = image.load_img(im_name, target_size=(224,224))\n",
    "    im = OffsetImage(img, zoom=zoom)\n",
    "    ab = AnnotationBbox(im, pos, xycoords='data', frameon=False)\n",
    "    ax.add_artist(ab)\n",
    "    ax.update_datalim(np.column_stack(pos))\n",
    "    ax.autoscale()\n",
    "plt.axis(False)"
   ]
  },
  {
   "cell_type": "markdown",
   "metadata": {},
   "source": [
    "### Representation as scatterplot in 2D projection of the latent space, this time with path between related images"
   ]
  },
  {
   "cell_type": "code",
   "execution_count": null,
   "metadata": {},
   "outputs": [],
   "source": [
    "def plot_arrows(ax,x,y,arrowstyle = '->',arrow_len = 0.1,color = 'k',alpha = 1.,size = 1.):\n",
    "    for i in range(len(x)-1):\n",
    "        start =np.array([x[i],y[i]])\n",
    "        end =np.array([x[i+1],y[i+1]])\n",
    "        center = (start+end)/2.\n",
    "        direction = (end-start)/np.linalg.norm((end-start))\n",
    "        start = center - arrow_len * direction\n",
    "        end = center + arrow_len * direction\n",
    "        \n",
    "        ax.annotate('', xytext=start, xy=end,\n",
    "                    arrowprops=dict(arrowstyle=arrowstyle, color=color),\n",
    "                        size=size)"
   ]
  },
  {
   "cell_type": "code",
   "execution_count": null,
   "metadata": {},
   "outputs": [],
   "source": [
    "# the possible values for arrowstyle are displayed here\n",
    "import matplotlib.patches as mpatch \n",
    "styles = mpatch.ArrowStyle.get_styles() \n",
    "print(styles)"
   ]
  },
  {
   "cell_type": "code",
   "execution_count": null,
   "metadata": {},
   "outputs": [],
   "source": [
    "start_image = 'imagename.jpg' # random = choice(image_names)\n",
    "end_image = 'imagename.jpg'\n",
    "N = 100 # intermediate steps\n",
    "N_neighbours = 5\n",
    "metric = 'cityblock' # choose metric\n",
    "unique = True # function is forced to select the next image that has not yet been selected\n",
    "\n",
    "image_path = find_neighbours_on_path(start_image,end_image,N,N_neighbours,metric,unique)"
   ]
  },
  {
   "cell_type": "code",
   "execution_count": null,
   "metadata": {},
   "outputs": [],
   "source": [
    "randseed = 0 # set the initialization of the random number generator\n",
    "np.random.seed(randseed)\n",
    "projection = 'tsne' # 'pca' or 'tsne'\n",
    "zoom = 0.55  # size of the images\n",
    "\n",
    "# parameters for the pathline\n",
    "N_line = 1 # the number of images to be connected by the line. At 1 all are taken\n",
    "line_width = 1.\n",
    "line_color = 'k' # here you can also enter any rgb-value as tuple, e.g. (0,1,0)\n",
    "alpha = 1. # transparency of the line\n",
    "\n",
    "# parameters for the arrows\n",
    "arrow = True # False -> no arrows\n",
    "arrowstyle = '->'\n",
    "arrow_len = 0.5\n",
    "arrow_color = line_color\n",
    "size = 37\n",
    "\n",
    "path_features = np.array([feature_dict[img] for img in image_path])\n",
    "\n",
    "if projection == 'pca':\n",
    "    transformer = PCA(n_components=2)\n",
    "elif projection == 'tsne':\n",
    "    transformer = TSNE(n_components = 2)\n",
    "transformed_features = transformer.fit_transform(path_features)\n",
    "\n",
    "plt.figure(figsize = (30,30))\n",
    "ax = plt.subplot(111)\n",
    "x = []\n",
    "y = []\n",
    "for pos,image_name in zip(transformed_features,image_path):\n",
    "    im_name = os.path.join(scraped_images_folder, image_name.strip(\"'\"))\n",
    "    img = image.load_img(im_name, target_size=(224,224))\n",
    "    im = OffsetImage(img, zoom=zoom)\n",
    "    ab = AnnotationBbox(im, pos, xycoords='data', frameon=False)\n",
    "    ax.add_artist(ab)\n",
    "    ax.update_datalim(np.column_stack(pos))\n",
    "    ax.autoscale()\n",
    "    x.append(pos[0])\n",
    "    y.append(pos[1])\n",
    "plt.axis(False)\n",
    "\n",
    "if N_line < len(x) and N_line is not None:\n",
    "    points = [0,len(x)-1]\n",
    "    remaining_points =  list(range(1,len(x)-1))\n",
    "    shuffle(remaining_points)\n",
    "    points += remaining_points[:N_line-2]\n",
    "    points = sorted(points)\n",
    "    x= [x[p] for p in points]\n",
    "    y= [y[p] for p in points]\n",
    "\n",
    "plt.plot(x,y,lw = line_width,color = line_color,alpha = alpha)\n",
    "if arrow:\n",
    "    plot_arrows(ax,x,y,arrowstyle = arrowstyle,size=size,color = arrow_color,alpha = alpha,arrow_len = arrow_len)"
   ]
  },
  {
   "cell_type": "markdown",
   "metadata": {},
   "source": [
    "### Representation as a tube-shaped scatterplot\n",
    "Here the images of the path are spread with some randomness between the start and end points."
   ]
  },
  {
   "cell_type": "code",
   "execution_count": null,
   "metadata": {},
   "outputs": [],
   "source": [
    "start_image = 'imagename.jpg' # random = choice(image_names)\n",
    "end_image = 'imagename.jpg'\n",
    "N = 75 # intermediate steps\n",
    "N_neighbours = 1\n",
    "metric = 'cosine' # choose metric\n",
    "unique = True # function is forced to select the next image that has not yet been selected\n",
    "\n",
    "image_path = find_neighbours_on_path(start_image,end_image,N,N_neighbours,metric,unique)"
   ]
  },
  {
   "cell_type": "code",
   "execution_count": null,
   "metadata": {},
   "outputs": [],
   "source": [
    "randseed = 0 # set the initialization of the random number generator\n",
    "np.random.seed(randseed)\n",
    "zoom = 0.55   # size of the images\n",
    "\n",
    "stretch = 50 # the length of the tube in relation to its width\n",
    "\n",
    "# parameters for the pathline\n",
    "line_width = 1.\n",
    "line_color = 'k' # here you can also enter any rgb-value as tuple, e.g. (0,1,0)\n",
    "alpha =0. # transparency of the line, with 0 it becomes invisible\n",
    "\n",
    "# parameters for the arrows\n",
    "arrow = True # False -> no arrows\n",
    "arrowstyle = '->'\n",
    "arrow_len = 0.5\n",
    "arrow_color = line_color\n",
    "size = 37\n",
    "\n",
    "x = np.random.rand(len(image_path))*stretch\n",
    "x = np.sort(x)\n",
    "y = np.random.randn(len(image_path))\n",
    "y[0] = 0 # anfang und ende werden in die mitte gesetzt.\n",
    "y[-1] = 0\n",
    "positions = zip(x,y)\n",
    "\n",
    "plt.figure(figsize = (50,25))\n",
    "ax = plt.subplot(111)\n",
    "x = []\n",
    "y = []\n",
    "for pos,image_name in zip(positions,image_path):\n",
    "    im_name = os.path.join(scraped_images_folder, image_name.strip(\"'\"))\n",
    "    img = image.load_img(im_name, target_size=(224,224))\n",
    "    im = OffsetImage(img, zoom=zoom)\n",
    "    ab = AnnotationBbox(im, pos, xycoords='data', frameon=False)\n",
    "    ax.add_artist(ab)\n",
    "    ax.update_datalim(np.column_stack(pos))\n",
    "    ax.autoscale()\n",
    "    x.append(pos[0])\n",
    "    y.append(pos[1])\n",
    "plt.axis(False)\n",
    "\n",
    "if N_line < len(x) and N_line is not None:\n",
    "    points = [0,len(x)-1]\n",
    "    remaining_points =  list(range(1,len(x)-1))\n",
    "    shuffle(remaining_points)\n",
    "    points += remaining_points[:N_line-2]\n",
    "    points = sorted(points)\n",
    "    x= [x[p] for p in points]\n",
    "    y= [y[p] for p in points]\n",
    "\n",
    "plt.plot(x,y,lw = line_width,color = line_color,alpha = alpha)\n",
    "if arrow:\n",
    "    plot_arrows(ax,x,y,arrowstyle = arrowstyle,size=size,color = arrow_color,alpha = alpha,arrow_len = arrow_len)"
   ]
  }
 ],
 "metadata": {
  "colab": {
   "collapsed_sections": [],
   "name": "Projekt7 - Feature_Neighbours.ipynb",
   "provenance": [],
   "toc_visible": true
  },
  "kernelspec": {
   "display_name": "Python 3",
   "language": "python",
   "name": "python3"
  },
  "language_info": {
   "codemirror_mode": {
    "name": "ipython",
    "version": 3
   },
   "file_extension": ".py",
   "mimetype": "text/x-python",
   "name": "python",
   "nbconvert_exporter": "python",
   "pygments_lexer": "ipython3",
   "version": "3.7.6"
  }
 },
 "nbformat": 4,
 "nbformat_minor": 4
}
