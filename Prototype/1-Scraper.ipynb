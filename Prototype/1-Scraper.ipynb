{
 "cells": [
  {
   "cell_type": "code",
   "execution_count": null,
   "metadata": {
    "colab": {},
    "colab_type": "code",
    "id": "-RpKqMDL5DhX"
   },
   "outputs": [],
   "source": [
    "#Scraping of data from the Open Source Library of the National Gallery of Denmark (SMK). Check out: https://www.smk.dk/en/article/smk-open/\n",
    "import requests\n",
    "import torch\n",
    "from PIL import Image\n",
    "import io \n",
    "from IPython.display import clear_output\n",
    "import json"
   ]
  },
  {
   "cell_type": "code",
   "execution_count": null,
   "metadata": {
    "colab": {
     "base_uri": "https://localhost:8080/",
     "height": 34
    },
    "colab_type": "code",
    "executionInfo": {
     "elapsed": 1114,
     "status": "ok",
     "timestamp": 1585156289697,
     "user": {
      "displayName": "Dominik Bönisch",
      "photoUrl": "https://lh3.googleusercontent.com/a-/AOh14GhKOWR8THR9qdTMvlOUgs_jDS8c90Gn7wTwJaxV=s64",
      "userId": "01670297113181042790"
     },
     "user_tz": -60
    },
    "id": "2JtSbDxpVMqn",
    "outputId": "f65e76e8-2261-46da-e27c-5b4c931ab438"
   },
   "outputs": [],
   "source": [
    "#If you're working with Colab mount your drive or skip this step\n",
    "from google.colab import drive\n",
    "drive.mount('/content/drive')"
   ]
  },
  {
   "cell_type": "code",
   "execution_count": null,
   "metadata": {
    "colab": {},
    "colab_type": "code",
    "id": "DkdN53mjGcoh"
   },
   "outputs": [],
   "source": [
    "respone = requests.get('https://api.smk.dk/api/v1/art/all_ids')"
   ]
  },
  {
   "cell_type": "code",
   "execution_count": null,
   "metadata": {
    "colab": {},
    "colab_type": "code",
    "id": "BSSljsnGGsJO"
   },
   "outputs": [],
   "source": [
    "import json\n",
    "ids = json.loads(respone.content)['objectIDs']"
   ]
  },
  {
   "cell_type": "code",
   "execution_count": null,
   "metadata": {
    "colab": {
     "base_uri": "https://localhost:8080/",
     "height": 34
    },
    "colab_type": "code",
    "executionInfo": {
     "elapsed": 645,
     "status": "ok",
     "timestamp": 1585156290061,
     "user": {
      "displayName": "Dominik Bönisch",
      "photoUrl": "https://lh3.googleusercontent.com/a-/AOh14GhKOWR8THR9qdTMvlOUgs_jDS8c90Gn7wTwJaxV=s64",
      "userId": "01670297113181042790"
     },
     "user_tz": -60
    },
    "id": "szDPBrYcPfb5",
    "outputId": "8e985474-7139-4153-d0d6-8f8de3bf0cbd"
   },
   "outputs": [],
   "source": [
    "print(len(ids))"
   ]
  },
  {
   "cell_type": "code",
   "execution_count": null,
   "metadata": {
    "colab": {},
    "colab_type": "code",
    "id": "HsnW82mUrJvP"
   },
   "outputs": [],
   "source": [
    "import os\n",
    "path = \"/create/a/new/path/for/the/scraped/images/\"\n",
    "if not os.path.exists(path):\n",
    "    os.makedirs(path)"
   ]
  },
  {
   "cell_type": "code",
   "execution_count": null,
   "metadata": {
    "colab": {},
    "colab_type": "code",
    "id": "8xaso4rpiUur"
   },
   "outputs": [],
   "source": [
    "rights_file = '/set/a/path/for/the/file/is_public.json'\n",
    "processed_ids_file = '/set/a/path/for/the/file/processed_ids.json'"
   ]
  },
  {
   "cell_type": "code",
   "execution_count": null,
   "metadata": {
    "colab": {},
    "colab_type": "code",
    "id": "AHicPGNKG5p4"
   },
   "outputs": [],
   "source": [
    "links = {}\n",
    "if os.path.exists(processed_ids_file):\n",
    "    is_public = json.load(open(rights_file))\n",
    "    processed_ids = json.load(open(processed_ids_file))\n",
    "else:\n",
    "    processed_ids = []\n",
    "    is_public = {}\n",
    "\n",
    "download_image = False\n",
    "chunk = set(ids).difference(processed_ids)\n",
    "\n",
    "to_process = len(chunk)\n",
    "links_found = 0\n",
    "for ix, oid in enumerate(chunk):  \n",
    "    manifest = requests.get(f'https://api.smk.dk/api/v1/art/?object_number={oid}')\n",
    "    manifest = json.loads(manifest.content)\n",
    "    for m in manifest['items']:\n",
    "        l = m.get('image_thumbnail', False)\n",
    "        if l:\n",
    "            try:\n",
    "                onr = m['object_number']\n",
    "                image_name = f\"{onr.replace('/','_')}.jpg\"\n",
    "                links_found += 1\n",
    "                if download_image:\n",
    "                    image = requests.get(l)\n",
    "                    image = Image.open(io.BytesIO(image.content))\n",
    "                    image.save(os.path.join(path, image_name))\n",
    "                is_public[image_name] = m.get('public_domain', None) #this helps to filter images with a copyright later on\n",
    "            except:\n",
    "                print('failed to read image')\n",
    "    processed_ids.append(oid)\n",
    "    if ix%100 == 0:\n",
    "        json.dump(is_public, open(rights_file, 'w'))\n",
    "        json.dump(processed_ids, open(processed_ids_file, 'w'))\n",
    "        clear_output(wait=True)\n",
    "        print(f'{to_process} ids need processing, {links_found} links extracted')\n",
    "    to_process -= 1"
   ]
  }
 ],
 "metadata": {
  "accelerator": "GPU",
  "colab": {
   "collapsed_sections": [],
   "name": "Projekt1.1 - Scraper_with_public_domain.ipynb",
   "provenance": [
    {
     "file_id": "18EK6sN23Bn6OmaMfnnvFSgEryC_0rd-R",
     "timestamp": 1585156143498
    },
    {
     "file_id": "11PQocwgl4IUWcHF6ACa4MqWWn8HmdG2b",
     "timestamp": 1585136841186
    }
   ]
  },
  "kernelspec": {
   "display_name": "Python 3",
   "language": "python",
   "name": "python3"
  },
  "language_info": {
   "codemirror_mode": {
    "name": "ipython",
    "version": 3
   },
   "file_extension": ".py",
   "mimetype": "text/x-python",
   "name": "python",
   "nbconvert_exporter": "python",
   "pygments_lexer": "ipython3",
   "version": "3.7.6"
  }
 },
 "nbformat": 4,
 "nbformat_minor": 4
}
